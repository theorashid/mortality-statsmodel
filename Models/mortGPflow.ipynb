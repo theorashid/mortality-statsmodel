{
 "cells": [
  {
   "cell_type": "markdown",
   "metadata": {},
   "source": [
    "# Spatiotemporal mortality modelling using Gaussian process regression\n",
    "Aim: model the death rate in each spatial unit (LSOA in London) over the years 2002-2017 for 19 age groups (0, 1-4, 5-9, 10-14, ..., 80-94, 85+). (Note this is simulated data due to the sensitivity of health records, and this dataset only covers 2004-2017.)"
   ]
  },
  {
   "cell_type": "code",
   "execution_count": 1,
   "metadata": {},
   "outputs": [],
   "source": [
    "import gpflow\n",
    "import pandas as pd\n",
    "import numpy as np\n",
    "import tensorflow as tf\n",
    "from gpflow.ci_utils import ci_niter\n",
    "import matplotlib.pyplot as plt\n",
    "from tqdm.notebook import tqdm"
   ]
  },
  {
   "cell_type": "code",
   "execution_count": 2,
   "metadata": {},
   "outputs": [],
   "source": [
    "plt.style.use(\"ggplot\")"
   ]
  },
  {
   "cell_type": "code",
   "execution_count": 3,
   "metadata": {},
   "outputs": [
    {
     "data": {
      "text/plain": [
       "[name: \"/device:CPU:0\"\n",
       " device_type: \"CPU\"\n",
       " memory_limit: 268435456\n",
       " locality {\n",
       " }\n",
       " incarnation: 10523416722882171618,\n",
       " name: \"/device:XLA_CPU:0\"\n",
       " device_type: \"XLA_CPU\"\n",
       " memory_limit: 17179869184\n",
       " locality {\n",
       " }\n",
       " incarnation: 1860473412011330109\n",
       " physical_device_desc: \"device: XLA_CPU device\",\n",
       " name: \"/device:XLA_GPU:0\"\n",
       " device_type: \"XLA_GPU\"\n",
       " memory_limit: 17179869184\n",
       " locality {\n",
       " }\n",
       " incarnation: 18235557927867648444\n",
       " physical_device_desc: \"device: XLA_GPU device\",\n",
       " name: \"/device:GPU:0\"\n",
       " device_type: \"GPU\"\n",
       " memory_limit: 3750363136\n",
       " locality {\n",
       "   bus_id: 2\n",
       "   numa_node: 1\n",
       "   links {\n",
       "   }\n",
       " }\n",
       " incarnation: 9549078528883938367\n",
       " physical_device_desc: \"device: 0, name: Quadro P1000, pci bus id: 0000:b0:00.0, compute capability: 6.1\"]"
      ]
     },
     "execution_count": 3,
     "metadata": {},
     "output_type": "execute_result"
    }
   ],
   "source": [
    "tf.python.client.device_lib.list_local_devices()"
   ]
  },
  {
   "cell_type": "markdown",
   "metadata": {},
   "source": [
    "## Load the data"
   ]
  },
  {
   "cell_type": "code",
   "execution_count": 4,
   "metadata": {},
   "outputs": [],
   "source": [
    "mortality = pd.read_csv(\"mortality.csv\")"
   ]
  },
  {
   "cell_type": "code",
   "execution_count": 5,
   "metadata": {},
   "outputs": [],
   "source": [
    "mortality = mortality[[\n",
    "    \"LAD2011\", \"MSOA2011\", \"LSOA2011\", \"sex\", \"deaths\", \"population\", \"YEAR\", \"age\", \"coords.x1\", \"coords.x2\"\n",
    "]]"
   ]
  },
  {
   "cell_type": "code",
   "execution_count": 6,
   "metadata": {},
   "outputs": [
    {
     "name": "stdout",
     "output_type": "stream",
     "text": [
      "(2572220, 10)\n"
     ]
    },
    {
     "data": {
      "text/html": [
       "<div>\n",
       "<style scoped>\n",
       "    .dataframe tbody tr th:only-of-type {\n",
       "        vertical-align: middle;\n",
       "    }\n",
       "\n",
       "    .dataframe tbody tr th {\n",
       "        vertical-align: top;\n",
       "    }\n",
       "\n",
       "    .dataframe thead th {\n",
       "        text-align: right;\n",
       "    }\n",
       "</style>\n",
       "<table border=\"1\" class=\"dataframe\">\n",
       "  <thead>\n",
       "    <tr style=\"text-align: right;\">\n",
       "      <th></th>\n",
       "      <th>LAD2011</th>\n",
       "      <th>MSOA2011</th>\n",
       "      <th>LSOA2011</th>\n",
       "      <th>sex</th>\n",
       "      <th>deaths</th>\n",
       "      <th>population</th>\n",
       "      <th>YEAR</th>\n",
       "      <th>age</th>\n",
       "      <th>coords.x1</th>\n",
       "      <th>coords.x2</th>\n",
       "    </tr>\n",
       "  </thead>\n",
       "  <tbody>\n",
       "    <tr>\n",
       "      <th>0</th>\n",
       "      <td>E09000001</td>\n",
       "      <td>E02000001</td>\n",
       "      <td>E01000001</td>\n",
       "      <td>1</td>\n",
       "      <td>0</td>\n",
       "      <td>3</td>\n",
       "      <td>2004</td>\n",
       "      <td>0.056495</td>\n",
       "      <td>532150.839566</td>\n",
       "      <td>181617.460916</td>\n",
       "    </tr>\n",
       "    <tr>\n",
       "      <th>1</th>\n",
       "      <td>E09000001</td>\n",
       "      <td>E02000001</td>\n",
       "      <td>E01000001</td>\n",
       "      <td>1</td>\n",
       "      <td>0</td>\n",
       "      <td>17</td>\n",
       "      <td>2004</td>\n",
       "      <td>2.638939</td>\n",
       "      <td>532150.839566</td>\n",
       "      <td>181617.460916</td>\n",
       "    </tr>\n",
       "    <tr>\n",
       "      <th>2</th>\n",
       "      <td>E09000001</td>\n",
       "      <td>E02000001</td>\n",
       "      <td>E01000001</td>\n",
       "      <td>1</td>\n",
       "      <td>0</td>\n",
       "      <td>16</td>\n",
       "      <td>2004</td>\n",
       "      <td>7.500000</td>\n",
       "      <td>532150.839566</td>\n",
       "      <td>181617.460916</td>\n",
       "    </tr>\n",
       "    <tr>\n",
       "      <th>3</th>\n",
       "      <td>E09000001</td>\n",
       "      <td>E02000001</td>\n",
       "      <td>E01000001</td>\n",
       "      <td>1</td>\n",
       "      <td>0</td>\n",
       "      <td>8</td>\n",
       "      <td>2004</td>\n",
       "      <td>12.500000</td>\n",
       "      <td>532150.839566</td>\n",
       "      <td>181617.460916</td>\n",
       "    </tr>\n",
       "    <tr>\n",
       "      <th>4</th>\n",
       "      <td>E09000001</td>\n",
       "      <td>E02000001</td>\n",
       "      <td>E01000001</td>\n",
       "      <td>1</td>\n",
       "      <td>0</td>\n",
       "      <td>10</td>\n",
       "      <td>2004</td>\n",
       "      <td>17.652159</td>\n",
       "      <td>532150.839566</td>\n",
       "      <td>181617.460916</td>\n",
       "    </tr>\n",
       "  </tbody>\n",
       "</table>\n",
       "</div>"
      ],
      "text/plain": [
       "     LAD2011   MSOA2011   LSOA2011  sex  deaths  population  YEAR        age  \\\n",
       "0  E09000001  E02000001  E01000001    1       0           3  2004   0.056495   \n",
       "1  E09000001  E02000001  E01000001    1       0          17  2004   2.638939   \n",
       "2  E09000001  E02000001  E01000001    1       0          16  2004   7.500000   \n",
       "3  E09000001  E02000001  E01000001    1       0           8  2004  12.500000   \n",
       "4  E09000001  E02000001  E01000001    1       0          10  2004  17.652159   \n",
       "\n",
       "       coords.x1      coords.x2  \n",
       "0  532150.839566  181617.460916  \n",
       "1  532150.839566  181617.460916  \n",
       "2  532150.839566  181617.460916  \n",
       "3  532150.839566  181617.460916  \n",
       "4  532150.839566  181617.460916  "
      ]
     },
     "execution_count": 6,
     "metadata": {},
     "output_type": "execute_result"
    }
   ],
   "source": [
    "print(mortality.shape)\n",
    "mortality.head()"
   ]
  },
  {
   "cell_type": "markdown",
   "metadata": {},
   "source": [
    "## Create training and test sets"
   ]
  },
  {
   "cell_type": "markdown",
   "metadata": {},
   "source": [
    "Work on men only for now"
   ]
  },
  {
   "cell_type": "code",
   "execution_count": 7,
   "metadata": {},
   "outputs": [],
   "source": [
    "mortality_m = mortality[mortality[\"sex\"] == 1]"
   ]
  },
  {
   "cell_type": "markdown",
   "metadata": {},
   "source": [
    "Test on all the data coordinates"
   ]
  },
  {
   "cell_type": "code",
   "execution_count": 8,
   "metadata": {},
   "outputs": [],
   "source": [
    "test_x = mortality_m[[\"coords.x1\", \"coords.x2\", \"YEAR\", \"age\"]]\n",
    "test_x = test_x.apply(lambda x: (x - x.mean()) / x.std())\n",
    "test_x = test_x.values"
   ]
  },
  {
   "cell_type": "markdown",
   "metadata": {},
   "source": [
    "Only train on data with non-negative populations. Zero population strata provide no information and will not work with log link offset in the likelihood."
   ]
  },
  {
   "cell_type": "code",
   "execution_count": 9,
   "metadata": {},
   "outputs": [
    {
     "data": {
      "text/html": [
       "<div>\n",
       "<style scoped>\n",
       "    .dataframe tbody tr th:only-of-type {\n",
       "        vertical-align: middle;\n",
       "    }\n",
       "\n",
       "    .dataframe tbody tr th {\n",
       "        vertical-align: top;\n",
       "    }\n",
       "\n",
       "    .dataframe thead th {\n",
       "        text-align: right;\n",
       "    }\n",
       "</style>\n",
       "<table border=\"1\" class=\"dataframe\">\n",
       "  <thead>\n",
       "    <tr style=\"text-align: right;\">\n",
       "      <th></th>\n",
       "      <th>LAD2011</th>\n",
       "      <th>MSOA2011</th>\n",
       "      <th>LSOA2011</th>\n",
       "      <th>sex</th>\n",
       "      <th>deaths</th>\n",
       "      <th>population</th>\n",
       "      <th>YEAR</th>\n",
       "      <th>age</th>\n",
       "      <th>coords.x1</th>\n",
       "      <th>coords.x2</th>\n",
       "      <th>death rate</th>\n",
       "    </tr>\n",
       "  </thead>\n",
       "  <tbody>\n",
       "    <tr>\n",
       "      <th>0</th>\n",
       "      <td>E09000001</td>\n",
       "      <td>E02000001</td>\n",
       "      <td>E01000001</td>\n",
       "      <td>1</td>\n",
       "      <td>0</td>\n",
       "      <td>3</td>\n",
       "      <td>2004</td>\n",
       "      <td>0.056495</td>\n",
       "      <td>532150.839566</td>\n",
       "      <td>181617.460916</td>\n",
       "      <td>0.000000</td>\n",
       "    </tr>\n",
       "    <tr>\n",
       "      <th>1</th>\n",
       "      <td>E09000001</td>\n",
       "      <td>E02000001</td>\n",
       "      <td>E01000001</td>\n",
       "      <td>1</td>\n",
       "      <td>0</td>\n",
       "      <td>17</td>\n",
       "      <td>2004</td>\n",
       "      <td>2.638939</td>\n",
       "      <td>532150.839566</td>\n",
       "      <td>181617.460916</td>\n",
       "      <td>0.000000</td>\n",
       "    </tr>\n",
       "    <tr>\n",
       "      <th>2</th>\n",
       "      <td>E09000001</td>\n",
       "      <td>E02000001</td>\n",
       "      <td>E01000001</td>\n",
       "      <td>1</td>\n",
       "      <td>0</td>\n",
       "      <td>16</td>\n",
       "      <td>2004</td>\n",
       "      <td>7.500000</td>\n",
       "      <td>532150.839566</td>\n",
       "      <td>181617.460916</td>\n",
       "      <td>0.000000</td>\n",
       "    </tr>\n",
       "    <tr>\n",
       "      <th>3</th>\n",
       "      <td>E09000001</td>\n",
       "      <td>E02000001</td>\n",
       "      <td>E01000001</td>\n",
       "      <td>1</td>\n",
       "      <td>0</td>\n",
       "      <td>8</td>\n",
       "      <td>2004</td>\n",
       "      <td>12.500000</td>\n",
       "      <td>532150.839566</td>\n",
       "      <td>181617.460916</td>\n",
       "      <td>0.000000</td>\n",
       "    </tr>\n",
       "    <tr>\n",
       "      <th>4</th>\n",
       "      <td>E09000001</td>\n",
       "      <td>E02000001</td>\n",
       "      <td>E01000001</td>\n",
       "      <td>1</td>\n",
       "      <td>0</td>\n",
       "      <td>10</td>\n",
       "      <td>2004</td>\n",
       "      <td>17.652159</td>\n",
       "      <td>532150.839566</td>\n",
       "      <td>181617.460916</td>\n",
       "      <td>0.000000</td>\n",
       "    </tr>\n",
       "    <tr>\n",
       "      <th>...</th>\n",
       "      <td>...</td>\n",
       "      <td>...</td>\n",
       "      <td>...</td>\n",
       "      <td>...</td>\n",
       "      <td>...</td>\n",
       "      <td>...</td>\n",
       "      <td>...</td>\n",
       "      <td>...</td>\n",
       "      <td>...</td>\n",
       "      <td>...</td>\n",
       "      <td>...</td>\n",
       "    </tr>\n",
       "    <tr>\n",
       "      <th>2572196</th>\n",
       "      <td>E09000011</td>\n",
       "      <td>E02006931</td>\n",
       "      <td>E01033746</td>\n",
       "      <td>1</td>\n",
       "      <td>3</td>\n",
       "      <td>42</td>\n",
       "      <td>2017</td>\n",
       "      <td>67.631902</td>\n",
       "      <td>538053.851750</td>\n",
       "      <td>177045.460068</td>\n",
       "      <td>0.071429</td>\n",
       "    </tr>\n",
       "    <tr>\n",
       "      <th>2572197</th>\n",
       "      <td>E09000011</td>\n",
       "      <td>E02006931</td>\n",
       "      <td>E01033746</td>\n",
       "      <td>1</td>\n",
       "      <td>0</td>\n",
       "      <td>33</td>\n",
       "      <td>2017</td>\n",
       "      <td>72.413336</td>\n",
       "      <td>538053.851750</td>\n",
       "      <td>177045.460068</td>\n",
       "      <td>0.000000</td>\n",
       "    </tr>\n",
       "    <tr>\n",
       "      <th>2572198</th>\n",
       "      <td>E09000011</td>\n",
       "      <td>E02006931</td>\n",
       "      <td>E01033746</td>\n",
       "      <td>1</td>\n",
       "      <td>2</td>\n",
       "      <td>23</td>\n",
       "      <td>2017</td>\n",
       "      <td>77.369979</td>\n",
       "      <td>538053.851750</td>\n",
       "      <td>177045.460068</td>\n",
       "      <td>0.086957</td>\n",
       "    </tr>\n",
       "    <tr>\n",
       "      <th>2572199</th>\n",
       "      <td>E09000011</td>\n",
       "      <td>E02006931</td>\n",
       "      <td>E01033746</td>\n",
       "      <td>1</td>\n",
       "      <td>6</td>\n",
       "      <td>18</td>\n",
       "      <td>2017</td>\n",
       "      <td>82.260847</td>\n",
       "      <td>538053.851750</td>\n",
       "      <td>177045.460068</td>\n",
       "      <td>0.333333</td>\n",
       "    </tr>\n",
       "    <tr>\n",
       "      <th>2572200</th>\n",
       "      <td>E09000011</td>\n",
       "      <td>E02006931</td>\n",
       "      <td>E01033746</td>\n",
       "      <td>1</td>\n",
       "      <td>2</td>\n",
       "      <td>14</td>\n",
       "      <td>2017</td>\n",
       "      <td>89.966813</td>\n",
       "      <td>538053.851750</td>\n",
       "      <td>177045.460068</td>\n",
       "      <td>0.142857</td>\n",
       "    </tr>\n",
       "  </tbody>\n",
       "</table>\n",
       "<p>1282405 rows × 11 columns</p>\n",
       "</div>"
      ],
      "text/plain": [
       "           LAD2011   MSOA2011   LSOA2011  sex  deaths  population  YEAR  \\\n",
       "0        E09000001  E02000001  E01000001    1       0           3  2004   \n",
       "1        E09000001  E02000001  E01000001    1       0          17  2004   \n",
       "2        E09000001  E02000001  E01000001    1       0          16  2004   \n",
       "3        E09000001  E02000001  E01000001    1       0           8  2004   \n",
       "4        E09000001  E02000001  E01000001    1       0          10  2004   \n",
       "...            ...        ...        ...  ...     ...         ...   ...   \n",
       "2572196  E09000011  E02006931  E01033746    1       3          42  2017   \n",
       "2572197  E09000011  E02006931  E01033746    1       0          33  2017   \n",
       "2572198  E09000011  E02006931  E01033746    1       2          23  2017   \n",
       "2572199  E09000011  E02006931  E01033746    1       6          18  2017   \n",
       "2572200  E09000011  E02006931  E01033746    1       2          14  2017   \n",
       "\n",
       "               age      coords.x1      coords.x2  death rate  \n",
       "0         0.056495  532150.839566  181617.460916    0.000000  \n",
       "1         2.638939  532150.839566  181617.460916    0.000000  \n",
       "2         7.500000  532150.839566  181617.460916    0.000000  \n",
       "3        12.500000  532150.839566  181617.460916    0.000000  \n",
       "4        17.652159  532150.839566  181617.460916    0.000000  \n",
       "...            ...            ...            ...         ...  \n",
       "2572196  67.631902  538053.851750  177045.460068    0.071429  \n",
       "2572197  72.413336  538053.851750  177045.460068    0.000000  \n",
       "2572198  77.369979  538053.851750  177045.460068    0.086957  \n",
       "2572199  82.260847  538053.851750  177045.460068    0.333333  \n",
       "2572200  89.966813  538053.851750  177045.460068    0.142857  \n",
       "\n",
       "[1282405 rows x 11 columns]"
      ]
     },
     "execution_count": 9,
     "metadata": {},
     "output_type": "execute_result"
    }
   ],
   "source": [
    "mortality_m = mortality_m[mortality_m[\"population\"] != 0]\n",
    "mortality_m[\"death rate\"] = mortality_m[\"deaths\"]/mortality_m[\"population\"]\n",
    "mortality_m"
   ]
  },
  {
   "cell_type": "code",
   "execution_count": 10,
   "metadata": {},
   "outputs": [],
   "source": [
    "train_x = mortality_m[[\"YEAR\", \"age\", \"coords.x1\", \"coords.x2\"]]\n",
    "# rescale the columns because GP regression works better when the mean is around zero (standardise)\n",
    "train_x = train_x.apply(lambda x: (x - x.mean()) / x.std())\n",
    "train_x = train_x.values\n",
    "\n",
    "train_y = mortality_m[[\"death rate\"]]\n",
    "train_y = train_y.values"
   ]
  },
  {
   "cell_type": "code",
   "execution_count": 11,
   "metadata": {},
   "outputs": [
    {
     "name": "stdout",
     "output_type": "stream",
     "text": [
      "Train:  (1282405, 4)\n"
     ]
    }
   ],
   "source": [
    "# print(\"Train: \", train_x.shape, \"Test: \", test_x.shape)\n",
    "print(\"Train: \", train_x.shape)"
   ]
  },
  {
   "cell_type": "markdown",
   "metadata": {},
   "source": [
    "## 1. Simple GPFlow regression model\n",
    "Let's ignore the Poisson/Negative Binonmial likelihood for now and just get a Stochastic Variational Gaussian Process (SVGP) regression setup with a Gaussian noise model likelihood working."
   ]
  },
  {
   "cell_type": "code",
   "execution_count": 13,
   "metadata": {},
   "outputs": [],
   "source": [
    "M = 500  # Number of inducing locations -- will need to optimise this\n",
    "N = train_x.shape[0]\n",
    "# kernel = gpflow.kernels.Matern52()\n",
    "\n",
    "# SPECIFY KERNEL\n",
    "# dimension:\n",
    "# - 0 -- YEAR (Matern52)\n",
    "# - 1 -- age (SE as smooth)\n",
    "# - 2, 3 -- space (Matern52), but same lengthscale\n",
    "# kernel = gpflow.kernels.Matern52(\n",
    "#     active_dims=[0], lengthscales=1\n",
    "# ) + gpflow.kernels.SquaredExponential(\n",
    "#     active_dims=[1], lengthscales=1\n",
    "# ) + gpflow.kernels.Matern52(\n",
    "#     active_dims=[2,3], lengthscales=1\n",
    "# )\n",
    "kernel = gpflow.kernels.Matern52(\n",
    "    active_dims=[0], lengthscales=1\n",
    ") * gpflow.kernels.SquaredExponential(\n",
    "    active_dims=[1], lengthscales=1\n",
    ") * gpflow.kernels.Matern52(\n",
    "    active_dims=[2,3], lengthscales=1\n",
    ")\n",
    "Z = train_x[:M, :].copy()  # Initialize inducing locations to the first M inputs in the dataset\n",
    "m = gpflow.models.SVGP(kernel, gpflow.likelihoods.Gaussian(), Z, num_data=N)"
   ]
  },
  {
   "cell_type": "code",
   "execution_count": 14,
   "metadata": {},
   "outputs": [
    {
     "data": {
      "text/html": [
       "&lt;gpflow.models.svgp.SVGP object at 0x154d427527b8&gt;\n",
       "<table>\n",
       "<thead>\n",
       "<tr><th>name                               </th><th>class    </th><th>transform       </th><th>prior  </th><th>trainable  </th><th>shape        </th><th>dtype  </th><th>value                                  </th></tr>\n",
       "</thead>\n",
       "<tbody>\n",
       "<tr><td>SVGP.kernel.kernels[0].variance    </td><td>Parameter</td><td>Softplus        </td><td>       </td><td>True       </td><td>()           </td><td>float64</td><td>1.0                                    </td></tr>\n",
       "<tr><td>SVGP.kernel.kernels[0].lengthscales</td><td>Parameter</td><td>Softplus        </td><td>       </td><td>True       </td><td>()           </td><td>float64</td><td>1.0                                    </td></tr>\n",
       "<tr><td>SVGP.kernel.kernels[1].variance    </td><td>Parameter</td><td>Softplus        </td><td>       </td><td>True       </td><td>()           </td><td>float64</td><td>1.0                                    </td></tr>\n",
       "<tr><td>SVGP.kernel.kernels[1].lengthscales</td><td>Parameter</td><td>Softplus        </td><td>       </td><td>True       </td><td>()           </td><td>float64</td><td>1.0                                    </td></tr>\n",
       "<tr><td>SVGP.kernel.kernels[2].variance    </td><td>Parameter</td><td>Softplus        </td><td>       </td><td>True       </td><td>()           </td><td>float64</td><td>1.0                                    </td></tr>\n",
       "<tr><td>SVGP.kernel.kernels[2].lengthscales</td><td>Parameter</td><td>Softplus        </td><td>       </td><td>True       </td><td>()           </td><td>float64</td><td>1.0                                    </td></tr>\n",
       "<tr><td>SVGP.likelihood.variance           </td><td>Parameter</td><td>Softplus + Shift</td><td>       </td><td>True       </td><td>()           </td><td>float64</td><td>1.0                                    </td></tr>\n",
       "<tr><td>SVGP.inducing_variable.Z           </td><td>Parameter</td><td>                </td><td>       </td><td>True       </td><td>(500, 4)     </td><td>float64</td><td>[[-1.61494975, -1.56259323, 0.133074...</td></tr>\n",
       "<tr><td>SVGP.q_mu                          </td><td>Parameter</td><td>                </td><td>       </td><td>True       </td><td>(500, 1)     </td><td>float64</td><td>[[0....                                </td></tr>\n",
       "<tr><td>SVGP.q_sqrt                        </td><td>Parameter</td><td>FillTriangular  </td><td>       </td><td>True       </td><td>(1, 500, 500)</td><td>float64</td><td>[[[1., 0., 0....                       </td></tr>\n",
       "</tbody>\n",
       "</table>"
      ],
      "text/plain": [
       "<gpflow.models.svgp.SVGP object at 0x154d427527b8>\n",
       "╒═════════════════════════════════════╤═══════════╤══════════════════╤═════════╤═════════════╤═══════════════╤═════════╤═════════════════════════════════════════╕\n",
       "│ name                                │ class     │ transform        │ prior   │ trainable   │ shape         │ dtype   │ value                                   │\n",
       "╞═════════════════════════════════════╪═══════════╪══════════════════╪═════════╪═════════════╪═══════════════╪═════════╪═════════════════════════════════════════╡\n",
       "│ SVGP.kernel.kernels[0].variance     │ Parameter │ Softplus         │         │ True        │ ()            │ float64 │ 1.0                                     │\n",
       "├─────────────────────────────────────┼───────────┼──────────────────┼─────────┼─────────────┼───────────────┼─────────┼─────────────────────────────────────────┤\n",
       "│ SVGP.kernel.kernels[0].lengthscales │ Parameter │ Softplus         │         │ True        │ ()            │ float64 │ 1.0                                     │\n",
       "├─────────────────────────────────────┼───────────┼──────────────────┼─────────┼─────────────┼───────────────┼─────────┼─────────────────────────────────────────┤\n",
       "│ SVGP.kernel.kernels[1].variance     │ Parameter │ Softplus         │         │ True        │ ()            │ float64 │ 1.0                                     │\n",
       "├─────────────────────────────────────┼───────────┼──────────────────┼─────────┼─────────────┼───────────────┼─────────┼─────────────────────────────────────────┤\n",
       "│ SVGP.kernel.kernels[1].lengthscales │ Parameter │ Softplus         │         │ True        │ ()            │ float64 │ 1.0                                     │\n",
       "├─────────────────────────────────────┼───────────┼──────────────────┼─────────┼─────────────┼───────────────┼─────────┼─────────────────────────────────────────┤\n",
       "│ SVGP.kernel.kernels[2].variance     │ Parameter │ Softplus         │         │ True        │ ()            │ float64 │ 1.0                                     │\n",
       "├─────────────────────────────────────┼───────────┼──────────────────┼─────────┼─────────────┼───────────────┼─────────┼─────────────────────────────────────────┤\n",
       "│ SVGP.kernel.kernels[2].lengthscales │ Parameter │ Softplus         │         │ True        │ ()            │ float64 │ 1.0                                     │\n",
       "├─────────────────────────────────────┼───────────┼──────────────────┼─────────┼─────────────┼───────────────┼─────────┼─────────────────────────────────────────┤\n",
       "│ SVGP.likelihood.variance            │ Parameter │ Softplus + Shift │         │ True        │ ()            │ float64 │ 1.0                                     │\n",
       "├─────────────────────────────────────┼───────────┼──────────────────┼─────────┼─────────────┼───────────────┼─────────┼─────────────────────────────────────────┤\n",
       "│ SVGP.inducing_variable.Z            │ Parameter │                  │         │ True        │ (500, 4)      │ float64 │ [[-1.61494975, -1.56259323, 0.133074... │\n",
       "├─────────────────────────────────────┼───────────┼──────────────────┼─────────┼─────────────┼───────────────┼─────────┼─────────────────────────────────────────┤\n",
       "│ SVGP.q_mu                           │ Parameter │                  │         │ True        │ (500, 1)      │ float64 │ [[0....                                 │\n",
       "├─────────────────────────────────────┼───────────┼──────────────────┼─────────┼─────────────┼───────────────┼─────────┼─────────────────────────────────────────┤\n",
       "│ SVGP.q_sqrt                         │ Parameter │ FillTriangular   │         │ True        │ (1, 500, 500) │ float64 │ [[[1., 0., 0....                        │\n",
       "╘═════════════════════════════════════╧═══════════╧══════════════════╧═════════╧═════════════╧═══════════════╧═════════╧═════════════════════════════════════════╛"
      ]
     },
     "execution_count": 14,
     "metadata": {},
     "output_type": "execute_result"
    }
   ],
   "source": [
    "m"
   ]
  },
  {
   "cell_type": "code",
   "execution_count": 15,
   "metadata": {},
   "outputs": [],
   "source": [
    "minibatch_size = 100\n",
    "train_dataset = tf.data.Dataset.from_tensor_slices((train_x, train_y)).repeat().shuffle(N)\n",
    "train_iter = iter(train_dataset.batch(minibatch_size))"
   ]
  },
  {
   "cell_type": "code",
   "execution_count": 16,
   "metadata": {},
   "outputs": [
    {
     "data": {
      "text/plain": [
       "Text(0, 0.5, 'pred_y')"
      ]
     },
     "execution_count": 16,
     "metadata": {},
     "output_type": "execute_result"
    },
    {
     "data": {
      "image/png": "[encoded data removed]",
      "text/plain": [
       "<Figure size 432x288 with 1 Axes>"
      ]
     },
     "metadata": {},
     "output_type": "display_data"
    }
   ],
   "source": [
    "pY, pYv = m.predict_y(train_x[:100, :])\n",
    "plt.scatter(train_y[:100], pY)\n",
    "plt.plot(train_y[:100], train_y[:100])\n",
    "plt.xlabel(\"train_y\")\n",
    "plt.ylabel(\"pred_y\")\n",
    "\n",
    "# initially all 0"
   ]
  },
  {
   "cell_type": "code",
   "execution_count": 41,
   "metadata": {},
   "outputs": [],
   "source": [
    "# We turn off training for inducing point locations\n",
    "gpflow.set_trainable(m.inducing_variable, False)\n",
    "\n",
    "def run_adam(model, iterations):\n",
    "    \"\"\"\n",
    "    Utility function running the Adam optimizer\n",
    "\n",
    "    :param model: GPflow model\n",
    "    :param interations: number of iterations\n",
    "    \"\"\"\n",
    "    # Create an Adam Optimizer action\n",
    "    logf = []\n",
    "    train_iter = iter(train_dataset.repeat().batch(minibatch_size))\n",
    "    training_loss = model.training_loss_closure(train_iter, compile=True)\n",
    "    optimizer = tf.optimizers.Adam()\n",
    "\n",
    "    @tf.function\n",
    "    def optimization_step():\n",
    "        optimizer.minimize(training_loss, model.trainable_variables)\n",
    "\n",
    "    for step in tqdm(range(iterations)):\n",
    "        optimization_step()\n",
    "        if step % 10 == 0:\n",
    "            elbo = -training_loss().numpy()\n",
    "            logf.append(elbo)\n",
    "    return logf"
   ]
  },
  {
   "cell_type": "code",
   "execution_count": 18,
   "metadata": {},
   "outputs": [
    {
     "data": {
      "application/vnd.jupyter.widget-view+json": {
       "model_id": "09edcef63b6440b3b0dbb8bfeeac7b6b",
       "version_major": 2,
       "version_minor": 0
      },
      "text/plain": [
       "HBox(children=(FloatProgress(value=0.0, max=10000.0), HTML(value='')))"
      ]
     },
     "metadata": {},
     "output_type": "display_data"
    },
    {
     "name": "stdout",
     "output_type": "stream",
     "text": [
      "\n"
     ]
    },
    {
     "data": {
      "image/png": "[encoded data removed]",
      "text/plain": [
       "<Figure size 432x288 with 1 Axes>"
      ]
     },
     "metadata": {},
     "output_type": "display_data"
    }
   ],
   "source": [
    "maxiter = ci_niter(10000)\n",
    "\n",
    "logf = run_adam(m, maxiter)\n",
    "plt.plot(np.arange(maxiter)[::10], logf)\n",
    "plt.xlabel(\"iteration\")\n",
    "_ = plt.ylabel(\"ELBO\")"
   ]
  },
  {
   "cell_type": "code",
   "execution_count": 19,
   "metadata": {},
   "outputs": [
    {
     "data": {
      "text/html": [
       "&lt;gpflow.models.svgp.SVGP object at 0x154d427527b8&gt;\n",
       "<table>\n",
       "<thead>\n",
       "<tr><th>name                               </th><th>class    </th><th>transform       </th><th>prior  </th><th>trainable  </th><th>shape        </th><th>dtype  </th><th>value                                               </th></tr>\n",
       "</thead>\n",
       "<tbody>\n",
       "<tr><td>SVGP.kernel.kernels[0].variance    </td><td>Parameter</td><td>Softplus        </td><td>       </td><td>True       </td><td>()           </td><td>float64</td><td>0.09499668718905024                                 </td></tr>\n",
       "<tr><td>SVGP.kernel.kernels[0].lengthscales</td><td>Parameter</td><td>Softplus        </td><td>       </td><td>True       </td><td>()           </td><td>float64</td><td>1.7027125860025243                                  </td></tr>\n",
       "<tr><td>SVGP.kernel.kernels[1].variance    </td><td>Parameter</td><td>Softplus        </td><td>       </td><td>True       </td><td>()           </td><td>float64</td><td>0.09499668718905031                                 </td></tr>\n",
       "<tr><td>SVGP.kernel.kernels[1].lengthscales</td><td>Parameter</td><td>Softplus        </td><td>       </td><td>True       </td><td>()           </td><td>float64</td><td>0.8345708106967622                                  </td></tr>\n",
       "<tr><td>SVGP.kernel.kernels[2].variance    </td><td>Parameter</td><td>Softplus        </td><td>       </td><td>True       </td><td>()           </td><td>float64</td><td>0.09499668718905124                                 </td></tr>\n",
       "<tr><td>SVGP.kernel.kernels[2].lengthscales</td><td>Parameter</td><td>Softplus        </td><td>       </td><td>True       </td><td>()           </td><td>float64</td><td>5.732502198224077                                   </td></tr>\n",
       "<tr><td>SVGP.likelihood.variance           </td><td>Parameter</td><td>Softplus + Shift</td><td>       </td><td>True       </td><td>()           </td><td>float64</td><td>0.003987538262513178                                </td></tr>\n",
       "<tr><td>SVGP.inducing_variable.Z           </td><td>Parameter</td><td>                </td><td>       </td><td>False      </td><td>(500, 4)     </td><td>float64</td><td>[[-1.61494975, -1.56259323, 0.133074...             </td></tr>\n",
       "<tr><td>SVGP.q_mu                          </td><td>Parameter</td><td>                </td><td>       </td><td>True       </td><td>(500, 1)     </td><td>float64</td><td>[[5.84862548e-02...                                 </td></tr>\n",
       "<tr><td>SVGP.q_sqrt                        </td><td>Parameter</td><td>FillTriangular  </td><td>       </td><td>True       </td><td>(1, 500, 500)</td><td>float64</td><td>[[[3.06380351e-02, 0.00000000e+00, 0.00000000e+00...</td></tr>\n",
       "</tbody>\n",
       "</table>"
      ],
      "text/plain": [
       "<gpflow.models.svgp.SVGP object at 0x154d427527b8>\n",
       "╒═════════════════════════════════════╤═══════════╤══════════════════╤═════════╤═════════════╤═══════════════╤═════════╤══════════════════════════════════════════════════════╕\n",
       "│ name                                │ class     │ transform        │ prior   │ trainable   │ shape         │ dtype   │ value                                                │\n",
       "╞═════════════════════════════════════╪═══════════╪══════════════════╪═════════╪═════════════╪═══════════════╪═════════╪══════════════════════════════════════════════════════╡\n",
       "│ SVGP.kernel.kernels[0].variance     │ Parameter │ Softplus         │         │ True        │ ()            │ float64 │ 0.09499668718905024                                  │\n",
       "├─────────────────────────────────────┼───────────┼──────────────────┼─────────┼─────────────┼───────────────┼─────────┼──────────────────────────────────────────────────────┤\n",
       "│ SVGP.kernel.kernels[0].lengthscales │ Parameter │ Softplus         │         │ True        │ ()            │ float64 │ 1.7027125860025243                                   │\n",
       "├─────────────────────────────────────┼───────────┼──────────────────┼─────────┼─────────────┼───────────────┼─────────┼──────────────────────────────────────────────────────┤\n",
       "│ SVGP.kernel.kernels[1].variance     │ Parameter │ Softplus         │         │ True        │ ()            │ float64 │ 0.09499668718905031                                  │\n",
       "├─────────────────────────────────────┼───────────┼──────────────────┼─────────┼─────────────┼───────────────┼─────────┼──────────────────────────────────────────────────────┤\n",
       "│ SVGP.kernel.kernels[1].lengthscales │ Parameter │ Softplus         │         │ True        │ ()            │ float64 │ 0.8345708106967622                                   │\n",
       "├─────────────────────────────────────┼───────────┼──────────────────┼─────────┼─────────────┼───────────────┼─────────┼──────────────────────────────────────────────────────┤\n",
       "│ SVGP.kernel.kernels[2].variance     │ Parameter │ Softplus         │         │ True        │ ()            │ float64 │ 0.09499668718905124                                  │\n",
       "├─────────────────────────────────────┼───────────┼──────────────────┼─────────┼─────────────┼───────────────┼─────────┼──────────────────────────────────────────────────────┤\n",
       "│ SVGP.kernel.kernels[2].lengthscales │ Parameter │ Softplus         │         │ True        │ ()            │ float64 │ 5.732502198224077                                    │\n",
       "├─────────────────────────────────────┼───────────┼──────────────────┼─────────┼─────────────┼───────────────┼─────────┼──────────────────────────────────────────────────────┤\n",
       "│ SVGP.likelihood.variance            │ Parameter │ Softplus + Shift │         │ True        │ ()            │ float64 │ 0.003987538262513178                                 │\n",
       "├─────────────────────────────────────┼───────────┼──────────────────┼─────────┼─────────────┼───────────────┼─────────┼──────────────────────────────────────────────────────┤\n",
       "│ SVGP.inducing_variable.Z            │ Parameter │                  │         │ False       │ (500, 4)      │ float64 │ [[-1.61494975, -1.56259323, 0.133074...              │\n",
       "├─────────────────────────────────────┼───────────┼──────────────────┼─────────┼─────────────┼───────────────┼─────────┼──────────────────────────────────────────────────────┤\n",
       "│ SVGP.q_mu                           │ Parameter │                  │         │ True        │ (500, 1)      │ float64 │ [[5.84862548e-02...                                  │\n",
       "├─────────────────────────────────────┼───────────┼──────────────────┼─────────┼─────────────┼───────────────┼─────────┼──────────────────────────────────────────────────────┤\n",
       "│ SVGP.q_sqrt                         │ Parameter │ FillTriangular   │         │ True        │ (1, 500, 500) │ float64 │ [[[3.06380351e-02, 0.00000000e+00, 0.00000000e+00... │\n",
       "╘═════════════════════════════════════╧═══════════╧══════════════════╧═════════╧═════════════╧═══════════════╧═════════╧══════════════════════════════════════════════════════╛"
      ]
     },
     "execution_count": 19,
     "metadata": {},
     "output_type": "execute_result"
    }
   ],
   "source": [
    "m"
   ]
  },
  {
   "cell_type": "code",
   "execution_count": 1,
   "metadata": {},
   "outputs": [
    {
     "ename": "NameError",
     "evalue": "name 'm' is not defined",
     "output_type": "error",
     "traceback": [
      "\u001b[0;31m---------------------------------------------------------------------------\u001b[0m",
      "\u001b[0;31mNameError\u001b[0m                                 Traceback (most recent call last)",
      "\u001b[0;32m<ipython-input-1-b752abdf942c>\u001b[0m in \u001b[0;36m<module>\u001b[0;34m\u001b[0m\n\u001b[0;32m----> 1\u001b[0;31m \u001b[0mpY\u001b[0m\u001b[0;34m,\u001b[0m \u001b[0mpYv\u001b[0m \u001b[0;34m=\u001b[0m \u001b[0mm\u001b[0m\u001b[0;34m.\u001b[0m\u001b[0mpredict_y\u001b[0m\u001b[0;34m(\u001b[0m\u001b[0mtrain_x\u001b[0m\u001b[0;34m[\u001b[0m\u001b[0;34m:\u001b[0m\u001b[0;36m100\u001b[0m\u001b[0;34m,\u001b[0m \u001b[0;34m:\u001b[0m\u001b[0;34m]\u001b[0m\u001b[0;34m)\u001b[0m\u001b[0;34m\u001b[0m\u001b[0;34m\u001b[0m\u001b[0m\n\u001b[0m\u001b[1;32m      2\u001b[0m \u001b[0mplt\u001b[0m\u001b[0;34m.\u001b[0m\u001b[0mscatter\u001b[0m\u001b[0;34m(\u001b[0m\u001b[0mtrain_y\u001b[0m\u001b[0;34m[\u001b[0m\u001b[0;34m:\u001b[0m\u001b[0;36m100\u001b[0m\u001b[0;34m]\u001b[0m\u001b[0;34m,\u001b[0m \u001b[0mpY\u001b[0m\u001b[0;34m)\u001b[0m\u001b[0;34m\u001b[0m\u001b[0;34m\u001b[0m\u001b[0m\n\u001b[1;32m      3\u001b[0m \u001b[0mplt\u001b[0m\u001b[0;34m.\u001b[0m\u001b[0mplot\u001b[0m\u001b[0;34m(\u001b[0m\u001b[0mtrain_y\u001b[0m\u001b[0;34m[\u001b[0m\u001b[0;34m:\u001b[0m\u001b[0;36m100\u001b[0m\u001b[0;34m]\u001b[0m\u001b[0;34m,\u001b[0m \u001b[0mtrain_y\u001b[0m\u001b[0;34m[\u001b[0m\u001b[0;34m:\u001b[0m\u001b[0;36m100\u001b[0m\u001b[0;34m]\u001b[0m\u001b[0;34m)\u001b[0m\u001b[0;34m\u001b[0m\u001b[0;34m\u001b[0m\u001b[0m\n\u001b[1;32m      4\u001b[0m \u001b[0mplt\u001b[0m\u001b[0;34m.\u001b[0m\u001b[0mxlabel\u001b[0m\u001b[0;34m(\u001b[0m\u001b[0;34m\"train_y\"\u001b[0m\u001b[0;34m)\u001b[0m\u001b[0;34m\u001b[0m\u001b[0;34m\u001b[0m\u001b[0m\n\u001b[1;32m      5\u001b[0m \u001b[0mplt\u001b[0m\u001b[0;34m.\u001b[0m\u001b[0mylabel\u001b[0m\u001b[0;34m(\u001b[0m\u001b[0;34m\"pred_y\"\u001b[0m\u001b[0;34m)\u001b[0m\u001b[0;34m\u001b[0m\u001b[0;34m\u001b[0m\u001b[0m\n",
      "\u001b[0;31mNameError\u001b[0m: name 'm' is not defined"
     ]
    }
   ],
   "source": [
    "pY, pYv = m.predict_y(train_x[:100, :])\n",
    "plt.scatter(train_y[:100], pY)\n",
    "plt.plot(train_y[:100], train_y[:100])\n",
    "plt.xlabel(\"train_y\")\n",
    "plt.ylabel(\"pred_y\")"
   ]
  },
  {
   "cell_type": "markdown",
   "metadata": {},
   "source": [
    "## 2. Poisson GPFlow regression model\n",
    "Poisson likelihood linking deaths to an underlying Gaussian process (log-Gaussian Cox Process). This needs to be carefully offset by a mean function of the log population for each stratum."
   ]
  },
  {
   "cell_type": "code",
   "execution_count": 61,
   "metadata": {},
   "outputs": [],
   "source": [
    "train_x = mortality_m[[\"YEAR\", \"age\", \"coords.x1\", \"coords.x2\"]]\n",
    "# rescale the columns because GP regression works better when the mean is around zero (standardise)\n",
    "train_x = train_x.apply(lambda x: (x - x.mean()) / x.std())\n",
    "train_x = train_x.values\n",
    "\n",
    "train_y = mortality_m[[\"deaths\"]]\n",
    "train_y = train_y.values"
   ]
  },
  {
   "cell_type": "code",
   "execution_count": 63,
   "metadata": {},
   "outputs": [],
   "source": [
    "# offset  = np.log(mortality_m[[\"population\"]].values)\n",
    "# train_x = np.append(train_x, offset, axis=1)\n",
    "# train_x"
   ]
  },
  {
   "cell_type": "code",
   "execution_count": 64,
   "metadata": {},
   "outputs": [],
   "source": [
    "M = 500  # Number of inducing locations -- will need to optimise this\n",
    "N = train_x.shape[0]"
   ]
  },
  {
   "cell_type": "code",
   "execution_count": 65,
   "metadata": {},
   "outputs": [],
   "source": [
    "# SPECIFY KERNEL\n",
    "# dimension:\n",
    "# - 0 -- YEAR (Matern52)\n",
    "# - 1 -- age (SE as smooth)\n",
    "# - 2, 3 -- space (Matern52), but same lengthscale\n",
    "kernel = gpflow.kernels.Matern52(\n",
    "    active_dims=[0], lengthscales=1\n",
    ") * gpflow.kernels.SquaredExponential(\n",
    "    active_dims=[1], lengthscales=1\n",
    ") * gpflow.kernels.Matern52(\n",
    "    active_dims=[2,3], lengthscales=1\n",
    ")"
   ]
  },
  {
   "cell_type": "code",
   "execution_count": 50,
   "metadata": {},
   "outputs": [],
   "source": [
    "# SPECIFY MEAN FUNCTION\n",
    "meanf = gpflow.mean_functions.Identity()"
   ]
  },
  {
   "cell_type": "code",
   "execution_count": 75,
   "metadata": {},
   "outputs": [],
   "source": [
    "Z = train_x[:M, :].copy()  # Initialize inducing locations to the first M inputs in the dataset\n",
    "m = gpflow.models.SVGP(kernel, gpflow.likelihoods.Poisson(), Z, num_data=N)#, mean_function = meanf)"
   ]
  },
  {
   "cell_type": "code",
   "execution_count": 76,
   "metadata": {},
   "outputs": [
    {
     "data": {
      "text/html": [
       "&lt;gpflow.models.svgp.SVGP object at 0x147719681a90&gt;\n",
       "<table>\n",
       "<thead>\n",
       "<tr><th>name                               </th><th>class    </th><th>transform       </th><th>prior  </th><th>trainable  </th><th>shape        </th><th>dtype  </th><th>value                                  </th></tr>\n",
       "</thead>\n",
       "<tbody>\n",
       "<tr><td>SVGP.kernel.kernels[0].variance    </td><td>Parameter</td><td>Softplus        </td><td>       </td><td>True       </td><td>()           </td><td>float64</td><td>1.0                                    </td></tr>\n",
       "<tr><td>SVGP.kernel.kernels[0].lengthscales</td><td>Parameter</td><td>Softplus        </td><td>       </td><td>True       </td><td>()           </td><td>float64</td><td>1.0                                    </td></tr>\n",
       "<tr><td>SVGP.kernel.kernels[1].variance    </td><td>Parameter</td><td>Softplus        </td><td>       </td><td>True       </td><td>()           </td><td>float64</td><td>1.0                                    </td></tr>\n",
       "<tr><td>SVGP.kernel.kernels[1].lengthscales</td><td>Parameter</td><td>Softplus        </td><td>       </td><td>True       </td><td>()           </td><td>float64</td><td>1.0                                    </td></tr>\n",
       "<tr><td>SVGP.kernel.kernels[2].variance    </td><td>Parameter</td><td>Softplus        </td><td>       </td><td>True       </td><td>()           </td><td>float64</td><td>1.0                                    </td></tr>\n",
       "<tr><td>SVGP.kernel.kernels[2].lengthscales</td><td>Parameter</td><td>Softplus        </td><td>       </td><td>True       </td><td>()           </td><td>float64</td><td>1.0                                    </td></tr>\n",
       "<tr><td>SVGP.likelihood.variance           </td><td>Parameter</td><td>Softplus + Shift</td><td>       </td><td>True       </td><td>()           </td><td>float64</td><td>1.0                                    </td></tr>\n",
       "<tr><td>SVGP.inducing_variable.Z           </td><td>Parameter</td><td>                </td><td>       </td><td>True       </td><td>(500, 4)     </td><td>float64</td><td>[[-1.61494975, -1.56259323, 0.133074...</td></tr>\n",
       "<tr><td>SVGP.q_mu                          </td><td>Parameter</td><td>                </td><td>       </td><td>True       </td><td>(500, 1)     </td><td>float64</td><td>[[0....                                </td></tr>\n",
       "<tr><td>SVGP.q_sqrt                        </td><td>Parameter</td><td>FillTriangular  </td><td>       </td><td>True       </td><td>(1, 500, 500)</td><td>float64</td><td>[[[1., 0., 0....                       </td></tr>\n",
       "</tbody>\n",
       "</table>"
      ],
      "text/plain": [
       "<gpflow.models.svgp.SVGP object at 0x147719681a90>\n",
       "╒═════════════════════════════════════╤═══════════╤══════════════════╤═════════╤═════════════╤═══════════════╤═════════╤═════════════════════════════════════════╕\n",
       "│ name                                │ class     │ transform        │ prior   │ trainable   │ shape         │ dtype   │ value                                   │\n",
       "╞═════════════════════════════════════╪═══════════╪══════════════════╪═════════╪═════════════╪═══════════════╪═════════╪═════════════════════════════════════════╡\n",
       "│ SVGP.kernel.kernels[0].variance     │ Parameter │ Softplus         │         │ True        │ ()            │ float64 │ 1.0                                     │\n",
       "├─────────────────────────────────────┼───────────┼──────────────────┼─────────┼─────────────┼───────────────┼─────────┼─────────────────────────────────────────┤\n",
       "│ SVGP.kernel.kernels[0].lengthscales │ Parameter │ Softplus         │         │ True        │ ()            │ float64 │ 1.0                                     │\n",
       "├─────────────────────────────────────┼───────────┼──────────────────┼─────────┼─────────────┼───────────────┼─────────┼─────────────────────────────────────────┤\n",
       "│ SVGP.kernel.kernels[1].variance     │ Parameter │ Softplus         │         │ True        │ ()            │ float64 │ 1.0                                     │\n",
       "├─────────────────────────────────────┼───────────┼──────────────────┼─────────┼─────────────┼───────────────┼─────────┼─────────────────────────────────────────┤\n",
       "│ SVGP.kernel.kernels[1].lengthscales │ Parameter │ Softplus         │         │ True        │ ()            │ float64 │ 1.0                                     │\n",
       "├─────────────────────────────────────┼───────────┼──────────────────┼─────────┼─────────────┼───────────────┼─────────┼─────────────────────────────────────────┤\n",
       "│ SVGP.kernel.kernels[2].variance     │ Parameter │ Softplus         │         │ True        │ ()            │ float64 │ 1.0                                     │\n",
       "├─────────────────────────────────────┼───────────┼──────────────────┼─────────┼─────────────┼───────────────┼─────────┼─────────────────────────────────────────┤\n",
       "│ SVGP.kernel.kernels[2].lengthscales │ Parameter │ Softplus         │         │ True        │ ()            │ float64 │ 1.0                                     │\n",
       "├─────────────────────────────────────┼───────────┼──────────────────┼─────────┼─────────────┼───────────────┼─────────┼─────────────────────────────────────────┤\n",
       "│ SVGP.likelihood.variance            │ Parameter │ Softplus + Shift │         │ True        │ ()            │ float64 │ 1.0                                     │\n",
       "├─────────────────────────────────────┼───────────┼──────────────────┼─────────┼─────────────┼───────────────┼─────────┼─────────────────────────────────────────┤\n",
       "│ SVGP.inducing_variable.Z            │ Parameter │                  │         │ True        │ (500, 4)      │ float64 │ [[-1.61494975, -1.56259323, 0.133074... │\n",
       "├─────────────────────────────────────┼───────────┼──────────────────┼─────────┼─────────────┼───────────────┼─────────┼─────────────────────────────────────────┤\n",
       "│ SVGP.q_mu                           │ Parameter │                  │         │ True        │ (500, 1)      │ float64 │ [[0....                                 │\n",
       "├─────────────────────────────────────┼───────────┼──────────────────┼─────────┼─────────────┼───────────────┼─────────┼─────────────────────────────────────────┤\n",
       "│ SVGP.q_sqrt                         │ Parameter │ FillTriangular   │         │ True        │ (1, 500, 500) │ float64 │ [[[1., 0., 0....                        │\n",
       "╘═════════════════════════════════════╧═══════════╧══════════════════╧═════════╧═════════════╧═══════════════╧═════════╧═════════════════════════════════════════╛"
      ]
     },
     "execution_count": 76,
     "metadata": {},
     "output_type": "execute_result"
    }
   ],
   "source": [
    "m"
   ]
  },
  {
   "cell_type": "code",
   "execution_count": 77,
   "metadata": {},
   "outputs": [],
   "source": [
    "minibatch_size = 100\n",
    "train_dataset = tf.data.Dataset.from_tensor_slices((train_x, train_y)).repeat().shuffle(N)\n",
    "train_iter = iter(train_dataset.batch(minibatch_size))"
   ]
  },
  {
   "cell_type": "code",
   "execution_count": 78,
   "metadata": {},
   "outputs": [],
   "source": [
    "# We turn off training for inducing point locations\n",
    "gpflow.set_trainable(m.inducing_variable, False)"
   ]
  },
  {
   "cell_type": "code",
   "execution_count": 79,
   "metadata": {},
   "outputs": [
    {
     "data": {
      "application/vnd.jupyter.widget-view+json": {
       "model_id": "92f2deb03e354b59b55779b4bb3f0df9",
       "version_major": 2,
       "version_minor": 0
      },
      "text/plain": [
       "HBox(children=(FloatProgress(value=0.0, max=10000.0), HTML(value='')))"
      ]
     },
     "metadata": {},
     "output_type": "display_data"
    },
    {
     "name": "stdout",
     "output_type": "stream",
     "text": [
      "\n"
     ]
    },
    {
     "ename": "TypeError",
     "evalue": "in user code:\n\n    <ipython-input-41-5a1d49fbd197>:19 optimization_step  *\n        optimizer.minimize(training_loss, model.trainable_variables)\n    /rds/general/user/tar15/home/anaconda3/envs/mortGP/lib/python3.6/site-packages/gpflow/models/training_mixins.py:86 training_loss  *\n        return self._training_loss(data)\n    /rds/general/user/tar15/home/anaconda3/envs/mortGP/lib/python3.6/site-packages/gpflow/models/model.py:57 _training_loss  *\n        return -(self.maximum_log_likelihood_objective(*args, **kwargs) + self.log_prior_density())\n    /rds/general/user/tar15/home/anaconda3/envs/mortGP/lib/python3.6/site-packages/gpflow/models/svgp.py:138 maximum_log_likelihood_objective  *\n        return self.elbo(data)\n    /rds/general/user/tar15/home/anaconda3/envs/mortGP/lib/python3.6/site-packages/gpflow/models/svgp.py:148 elbo  *\n        var_exp = self.likelihood.variational_expectations(f_mean, f_var, Y)\n    /rds/general/user/tar15/home/anaconda3/envs/mortGP/lib/python3.6/site-packages/gpflow/likelihoods/base.py:280 variational_expectations  *\n        ret = self._variational_expectations(Fmu, Fvar, Y)\n    /rds/general/user/tar15/home/anaconda3/envs/mortGP/lib/python3.6/site-packages/gpflow/likelihoods/scalar_continuous.py:59 _variational_expectations  *\n        - 0.5 * ((Y - Fmu) ** 2 + Fvar) / self.variance,\n    /rds/general/user/tar15/home/anaconda3/envs/mortGP/lib/python3.6/site-packages/tensorflow/python/ops/math_ops.py:1141 binary_op_wrapper\n        raise e\n    /rds/general/user/tar15/home/anaconda3/envs/mortGP/lib/python3.6/site-packages/tensorflow/python/ops/math_ops.py:1125 binary_op_wrapper\n        return func(x, y, name=name)\n    /rds/general/user/tar15/home/anaconda3/envs/mortGP/lib/python3.6/site-packages/tensorflow/python/util/dispatch.py:201 wrapper\n        return target(*args, **kwargs)\n    /rds/general/user/tar15/home/anaconda3/envs/mortGP/lib/python3.6/site-packages/tensorflow/python/ops/math_ops.py:527 subtract\n        return gen_math_ops.sub(x, y, name)\n    /rds/general/user/tar15/home/anaconda3/envs/mortGP/lib/python3.6/site-packages/tensorflow/python/ops/gen_math_ops.py:10466 sub\n        \"Sub\", x=x, y=y, name=name)\n    /rds/general/user/tar15/home/anaconda3/envs/mortGP/lib/python3.6/site-packages/tensorflow/python/framework/op_def_library.py:506 _apply_op_helper\n        inferred_from[input_arg.type_attr]))\n\n    TypeError: Input 'y' of 'Sub' Op has type float64 that does not match type int64 of argument 'x'.\n",
     "output_type": "error",
     "traceback": [
      "\u001b[0;31m---------------------------------------------------------------------------\u001b[0m",
      "\u001b[0;31mTypeError\u001b[0m                                 Traceback (most recent call last)",
      "\u001b[0;32m<ipython-input-79-72bd73fe3d6c>\u001b[0m in \u001b[0;36m<module>\u001b[0;34m\u001b[0m\n\u001b[1;32m      1\u001b[0m \u001b[0mmaxiter\u001b[0m \u001b[0;34m=\u001b[0m \u001b[0mci_niter\u001b[0m\u001b[0;34m(\u001b[0m\u001b[0;36m10000\u001b[0m\u001b[0;34m)\u001b[0m\u001b[0;34m\u001b[0m\u001b[0;34m\u001b[0m\u001b[0m\n\u001b[1;32m      2\u001b[0m \u001b[0;34m\u001b[0m\u001b[0m\n\u001b[0;32m----> 3\u001b[0;31m \u001b[0mlogf\u001b[0m \u001b[0;34m=\u001b[0m \u001b[0mrun_adam\u001b[0m\u001b[0;34m(\u001b[0m\u001b[0mm\u001b[0m\u001b[0;34m,\u001b[0m \u001b[0mmaxiter\u001b[0m\u001b[0;34m)\u001b[0m\u001b[0;34m\u001b[0m\u001b[0;34m\u001b[0m\u001b[0m\n\u001b[0m\u001b[1;32m      4\u001b[0m \u001b[0mplt\u001b[0m\u001b[0;34m.\u001b[0m\u001b[0mplot\u001b[0m\u001b[0;34m(\u001b[0m\u001b[0mnp\u001b[0m\u001b[0;34m.\u001b[0m\u001b[0marange\u001b[0m\u001b[0;34m(\u001b[0m\u001b[0mmaxiter\u001b[0m\u001b[0;34m)\u001b[0m\u001b[0;34m[\u001b[0m\u001b[0;34m:\u001b[0m\u001b[0;34m:\u001b[0m\u001b[0;36m10\u001b[0m\u001b[0;34m]\u001b[0m\u001b[0;34m,\u001b[0m \u001b[0mlogf\u001b[0m\u001b[0;34m)\u001b[0m\u001b[0;34m\u001b[0m\u001b[0;34m\u001b[0m\u001b[0m\n\u001b[1;32m      5\u001b[0m \u001b[0mplt\u001b[0m\u001b[0;34m.\u001b[0m\u001b[0mxlabel\u001b[0m\u001b[0;34m(\u001b[0m\u001b[0;34m\"iteration\"\u001b[0m\u001b[0;34m)\u001b[0m\u001b[0;34m\u001b[0m\u001b[0;34m\u001b[0m\u001b[0m\n",
      "\u001b[0;32m<ipython-input-41-5a1d49fbd197>\u001b[0m in \u001b[0;36mrun_adam\u001b[0;34m(model, iterations)\u001b[0m\n\u001b[1;32m     20\u001b[0m \u001b[0;34m\u001b[0m\u001b[0m\n\u001b[1;32m     21\u001b[0m     \u001b[0;32mfor\u001b[0m \u001b[0mstep\u001b[0m \u001b[0;32min\u001b[0m \u001b[0mtqdm\u001b[0m\u001b[0;34m(\u001b[0m\u001b[0mrange\u001b[0m\u001b[0;34m(\u001b[0m\u001b[0miterations\u001b[0m\u001b[0;34m)\u001b[0m\u001b[0;34m)\u001b[0m\u001b[0;34m:\u001b[0m\u001b[0;34m\u001b[0m\u001b[0;34m\u001b[0m\u001b[0m\n\u001b[0;32m---> 22\u001b[0;31m         \u001b[0moptimization_step\u001b[0m\u001b[0;34m(\u001b[0m\u001b[0;34m)\u001b[0m\u001b[0;34m\u001b[0m\u001b[0;34m\u001b[0m\u001b[0m\n\u001b[0m\u001b[1;32m     23\u001b[0m         \u001b[0;32mif\u001b[0m \u001b[0mstep\u001b[0m \u001b[0;34m%\u001b[0m \u001b[0;36m10\u001b[0m \u001b[0;34m==\u001b[0m \u001b[0;36m0\u001b[0m\u001b[0;34m:\u001b[0m\u001b[0;34m\u001b[0m\u001b[0;34m\u001b[0m\u001b[0m\n\u001b[1;32m     24\u001b[0m             \u001b[0melbo\u001b[0m \u001b[0;34m=\u001b[0m \u001b[0;34m-\u001b[0m\u001b[0mtraining_loss\u001b[0m\u001b[0;34m(\u001b[0m\u001b[0;34m)\u001b[0m\u001b[0;34m.\u001b[0m\u001b[0mnumpy\u001b[0m\u001b[0;34m(\u001b[0m\u001b[0;34m)\u001b[0m\u001b[0;34m\u001b[0m\u001b[0;34m\u001b[0m\u001b[0m\n",
      "\u001b[0;32m~/anaconda3/envs/mortGP/lib/python3.6/site-packages/tensorflow/python/eager/def_function.py\u001b[0m in \u001b[0;36m__call__\u001b[0;34m(self, *args, **kwds)\u001b[0m\n\u001b[1;32m    778\u001b[0m       \u001b[0;32melse\u001b[0m\u001b[0;34m:\u001b[0m\u001b[0;34m\u001b[0m\u001b[0;34m\u001b[0m\u001b[0m\n\u001b[1;32m    779\u001b[0m         \u001b[0mcompiler\u001b[0m \u001b[0;34m=\u001b[0m \u001b[0;34m\"nonXla\"\u001b[0m\u001b[0;34m\u001b[0m\u001b[0;34m\u001b[0m\u001b[0m\n\u001b[0;32m--> 780\u001b[0;31m         \u001b[0mresult\u001b[0m \u001b[0;34m=\u001b[0m \u001b[0mself\u001b[0m\u001b[0;34m.\u001b[0m\u001b[0m_call\u001b[0m\u001b[0;34m(\u001b[0m\u001b[0;34m*\u001b[0m\u001b[0margs\u001b[0m\u001b[0;34m,\u001b[0m \u001b[0;34m**\u001b[0m\u001b[0mkwds\u001b[0m\u001b[0;34m)\u001b[0m\u001b[0;34m\u001b[0m\u001b[0;34m\u001b[0m\u001b[0m\n\u001b[0m\u001b[1;32m    781\u001b[0m \u001b[0;34m\u001b[0m\u001b[0m\n\u001b[1;32m    782\u001b[0m       \u001b[0mnew_tracing_count\u001b[0m \u001b[0;34m=\u001b[0m \u001b[0mself\u001b[0m\u001b[0;34m.\u001b[0m\u001b[0m_get_tracing_count\u001b[0m\u001b[0;34m(\u001b[0m\u001b[0;34m)\u001b[0m\u001b[0;34m\u001b[0m\u001b[0;34m\u001b[0m\u001b[0m\n",
      "\u001b[0;32m~/anaconda3/envs/mortGP/lib/python3.6/site-packages/tensorflow/python/eager/def_function.py\u001b[0m in \u001b[0;36m_call\u001b[0;34m(self, *args, **kwds)\u001b[0m\n\u001b[1;32m    821\u001b[0m       \u001b[0;31m# This is the first call of __call__, so we have to initialize.\u001b[0m\u001b[0;34m\u001b[0m\u001b[0;34m\u001b[0m\u001b[0;34m\u001b[0m\u001b[0m\n\u001b[1;32m    822\u001b[0m       \u001b[0minitializers\u001b[0m \u001b[0;34m=\u001b[0m \u001b[0;34m[\u001b[0m\u001b[0;34m]\u001b[0m\u001b[0;34m\u001b[0m\u001b[0;34m\u001b[0m\u001b[0m\n\u001b[0;32m--> 823\u001b[0;31m       \u001b[0mself\u001b[0m\u001b[0;34m.\u001b[0m\u001b[0m_initialize\u001b[0m\u001b[0;34m(\u001b[0m\u001b[0margs\u001b[0m\u001b[0;34m,\u001b[0m \u001b[0mkwds\u001b[0m\u001b[0;34m,\u001b[0m \u001b[0madd_initializers_to\u001b[0m\u001b[0;34m=\u001b[0m\u001b[0minitializers\u001b[0m\u001b[0;34m)\u001b[0m\u001b[0;34m\u001b[0m\u001b[0;34m\u001b[0m\u001b[0m\n\u001b[0m\u001b[1;32m    824\u001b[0m     \u001b[0;32mfinally\u001b[0m\u001b[0;34m:\u001b[0m\u001b[0;34m\u001b[0m\u001b[0;34m\u001b[0m\u001b[0m\n\u001b[1;32m    825\u001b[0m       \u001b[0;31m# At this point we know that the initialization is complete (or less\u001b[0m\u001b[0;34m\u001b[0m\u001b[0;34m\u001b[0m\u001b[0;34m\u001b[0m\u001b[0m\n",
      "\u001b[0;32m~/anaconda3/envs/mortGP/lib/python3.6/site-packages/tensorflow/python/eager/def_function.py\u001b[0m in \u001b[0;36m_initialize\u001b[0;34m(self, args, kwds, add_initializers_to)\u001b[0m\n\u001b[1;32m    695\u001b[0m     self._concrete_stateful_fn = (\n\u001b[1;32m    696\u001b[0m         self._stateful_fn._get_concrete_function_internal_garbage_collected(  # pylint: disable=protected-access\n\u001b[0;32m--> 697\u001b[0;31m             *args, **kwds))\n\u001b[0m\u001b[1;32m    698\u001b[0m \u001b[0;34m\u001b[0m\u001b[0m\n\u001b[1;32m    699\u001b[0m     \u001b[0;32mdef\u001b[0m \u001b[0minvalid_creator_scope\u001b[0m\u001b[0;34m(\u001b[0m\u001b[0;34m*\u001b[0m\u001b[0munused_args\u001b[0m\u001b[0;34m,\u001b[0m \u001b[0;34m**\u001b[0m\u001b[0munused_kwds\u001b[0m\u001b[0;34m)\u001b[0m\u001b[0;34m:\u001b[0m\u001b[0;34m\u001b[0m\u001b[0;34m\u001b[0m\u001b[0m\n",
      "\u001b[0;32m~/anaconda3/envs/mortGP/lib/python3.6/site-packages/tensorflow/python/eager/function.py\u001b[0m in \u001b[0;36m_get_concrete_function_internal_garbage_collected\u001b[0;34m(self, *args, **kwargs)\u001b[0m\n\u001b[1;32m   2853\u001b[0m       \u001b[0margs\u001b[0m\u001b[0;34m,\u001b[0m \u001b[0mkwargs\u001b[0m \u001b[0;34m=\u001b[0m \u001b[0;32mNone\u001b[0m\u001b[0;34m,\u001b[0m \u001b[0;32mNone\u001b[0m\u001b[0;34m\u001b[0m\u001b[0;34m\u001b[0m\u001b[0m\n\u001b[1;32m   2854\u001b[0m     \u001b[0;32mwith\u001b[0m \u001b[0mself\u001b[0m\u001b[0;34m.\u001b[0m\u001b[0m_lock\u001b[0m\u001b[0;34m:\u001b[0m\u001b[0;34m\u001b[0m\u001b[0;34m\u001b[0m\u001b[0m\n\u001b[0;32m-> 2855\u001b[0;31m       \u001b[0mgraph_function\u001b[0m\u001b[0;34m,\u001b[0m \u001b[0m_\u001b[0m\u001b[0;34m,\u001b[0m \u001b[0m_\u001b[0m \u001b[0;34m=\u001b[0m \u001b[0mself\u001b[0m\u001b[0;34m.\u001b[0m\u001b[0m_maybe_define_function\u001b[0m\u001b[0;34m(\u001b[0m\u001b[0margs\u001b[0m\u001b[0;34m,\u001b[0m \u001b[0mkwargs\u001b[0m\u001b[0;34m)\u001b[0m\u001b[0;34m\u001b[0m\u001b[0;34m\u001b[0m\u001b[0m\n\u001b[0m\u001b[1;32m   2856\u001b[0m     \u001b[0;32mreturn\u001b[0m \u001b[0mgraph_function\u001b[0m\u001b[0;34m\u001b[0m\u001b[0;34m\u001b[0m\u001b[0m\n\u001b[1;32m   2857\u001b[0m \u001b[0;34m\u001b[0m\u001b[0m\n",
      "\u001b[0;32m~/anaconda3/envs/mortGP/lib/python3.6/site-packages/tensorflow/python/eager/function.py\u001b[0m in \u001b[0;36m_maybe_define_function\u001b[0;34m(self, args, kwargs)\u001b[0m\n\u001b[1;32m   3211\u001b[0m \u001b[0;34m\u001b[0m\u001b[0m\n\u001b[1;32m   3212\u001b[0m       \u001b[0mself\u001b[0m\u001b[0;34m.\u001b[0m\u001b[0m_function_cache\u001b[0m\u001b[0;34m.\u001b[0m\u001b[0mmissed\u001b[0m\u001b[0;34m.\u001b[0m\u001b[0madd\u001b[0m\u001b[0;34m(\u001b[0m\u001b[0mcall_context_key\u001b[0m\u001b[0;34m)\u001b[0m\u001b[0;34m\u001b[0m\u001b[0;34m\u001b[0m\u001b[0m\n\u001b[0;32m-> 3213\u001b[0;31m       \u001b[0mgraph_function\u001b[0m \u001b[0;34m=\u001b[0m \u001b[0mself\u001b[0m\u001b[0;34m.\u001b[0m\u001b[0m_create_graph_function\u001b[0m\u001b[0;34m(\u001b[0m\u001b[0margs\u001b[0m\u001b[0;34m,\u001b[0m \u001b[0mkwargs\u001b[0m\u001b[0;34m)\u001b[0m\u001b[0;34m\u001b[0m\u001b[0;34m\u001b[0m\u001b[0m\n\u001b[0m\u001b[1;32m   3214\u001b[0m       \u001b[0mself\u001b[0m\u001b[0;34m.\u001b[0m\u001b[0m_function_cache\u001b[0m\u001b[0;34m.\u001b[0m\u001b[0mprimary\u001b[0m\u001b[0;34m[\u001b[0m\u001b[0mcache_key\u001b[0m\u001b[0;34m]\u001b[0m \u001b[0;34m=\u001b[0m \u001b[0mgraph_function\u001b[0m\u001b[0;34m\u001b[0m\u001b[0;34m\u001b[0m\u001b[0m\n\u001b[1;32m   3215\u001b[0m       \u001b[0;32mreturn\u001b[0m \u001b[0mgraph_function\u001b[0m\u001b[0;34m,\u001b[0m \u001b[0margs\u001b[0m\u001b[0;34m,\u001b[0m \u001b[0mkwargs\u001b[0m\u001b[0;34m\u001b[0m\u001b[0;34m\u001b[0m\u001b[0m\n",
      "\u001b[0;32m~/anaconda3/envs/mortGP/lib/python3.6/site-packages/tensorflow/python/eager/function.py\u001b[0m in \u001b[0;36m_create_graph_function\u001b[0;34m(self, args, kwargs, override_flat_arg_shapes)\u001b[0m\n\u001b[1;32m   3073\u001b[0m             \u001b[0marg_names\u001b[0m\u001b[0;34m=\u001b[0m\u001b[0marg_names\u001b[0m\u001b[0;34m,\u001b[0m\u001b[0;34m\u001b[0m\u001b[0;34m\u001b[0m\u001b[0m\n\u001b[1;32m   3074\u001b[0m             \u001b[0moverride_flat_arg_shapes\u001b[0m\u001b[0;34m=\u001b[0m\u001b[0moverride_flat_arg_shapes\u001b[0m\u001b[0;34m,\u001b[0m\u001b[0;34m\u001b[0m\u001b[0;34m\u001b[0m\u001b[0m\n\u001b[0;32m-> 3075\u001b[0;31m             capture_by_value=self._capture_by_value),\n\u001b[0m\u001b[1;32m   3076\u001b[0m         \u001b[0mself\u001b[0m\u001b[0;34m.\u001b[0m\u001b[0m_function_attributes\u001b[0m\u001b[0;34m,\u001b[0m\u001b[0;34m\u001b[0m\u001b[0;34m\u001b[0m\u001b[0m\n\u001b[1;32m   3077\u001b[0m         \u001b[0mfunction_spec\u001b[0m\u001b[0;34m=\u001b[0m\u001b[0mself\u001b[0m\u001b[0;34m.\u001b[0m\u001b[0mfunction_spec\u001b[0m\u001b[0;34m,\u001b[0m\u001b[0;34m\u001b[0m\u001b[0;34m\u001b[0m\u001b[0m\n",
      "\u001b[0;32m~/anaconda3/envs/mortGP/lib/python3.6/site-packages/tensorflow/python/framework/func_graph.py\u001b[0m in \u001b[0;36mfunc_graph_from_py_func\u001b[0;34m(name, python_func, args, kwargs, signature, func_graph, autograph, autograph_options, add_control_dependencies, arg_names, op_return_value, collections, capture_by_value, override_flat_arg_shapes)\u001b[0m\n\u001b[1;32m    984\u001b[0m         \u001b[0m_\u001b[0m\u001b[0;34m,\u001b[0m \u001b[0moriginal_func\u001b[0m \u001b[0;34m=\u001b[0m \u001b[0mtf_decorator\u001b[0m\u001b[0;34m.\u001b[0m\u001b[0munwrap\u001b[0m\u001b[0;34m(\u001b[0m\u001b[0mpython_func\u001b[0m\u001b[0;34m)\u001b[0m\u001b[0;34m\u001b[0m\u001b[0;34m\u001b[0m\u001b[0m\n\u001b[1;32m    985\u001b[0m \u001b[0;34m\u001b[0m\u001b[0m\n\u001b[0;32m--> 986\u001b[0;31m       \u001b[0mfunc_outputs\u001b[0m \u001b[0;34m=\u001b[0m \u001b[0mpython_func\u001b[0m\u001b[0;34m(\u001b[0m\u001b[0;34m*\u001b[0m\u001b[0mfunc_args\u001b[0m\u001b[0;34m,\u001b[0m \u001b[0;34m**\u001b[0m\u001b[0mfunc_kwargs\u001b[0m\u001b[0;34m)\u001b[0m\u001b[0;34m\u001b[0m\u001b[0;34m\u001b[0m\u001b[0m\n\u001b[0m\u001b[1;32m    987\u001b[0m \u001b[0;34m\u001b[0m\u001b[0m\n\u001b[1;32m    988\u001b[0m       \u001b[0;31m# invariant: `func_outputs` contains only Tensors, CompositeTensors,\u001b[0m\u001b[0;34m\u001b[0m\u001b[0;34m\u001b[0m\u001b[0;34m\u001b[0m\u001b[0m\n",
      "\u001b[0;32m~/anaconda3/envs/mortGP/lib/python3.6/site-packages/tensorflow/python/eager/def_function.py\u001b[0m in \u001b[0;36mwrapped_fn\u001b[0;34m(*args, **kwds)\u001b[0m\n\u001b[1;32m    598\u001b[0m         \u001b[0;31m# __wrapped__ allows AutoGraph to swap in a converted function. We give\u001b[0m\u001b[0;34m\u001b[0m\u001b[0;34m\u001b[0m\u001b[0;34m\u001b[0m\u001b[0m\n\u001b[1;32m    599\u001b[0m         \u001b[0;31m# the function a weak reference to itself to avoid a reference cycle.\u001b[0m\u001b[0;34m\u001b[0m\u001b[0;34m\u001b[0m\u001b[0;34m\u001b[0m\u001b[0m\n\u001b[0;32m--> 600\u001b[0;31m         \u001b[0;32mreturn\u001b[0m \u001b[0mweak_wrapped_fn\u001b[0m\u001b[0;34m(\u001b[0m\u001b[0;34m)\u001b[0m\u001b[0;34m.\u001b[0m\u001b[0m__wrapped__\u001b[0m\u001b[0;34m(\u001b[0m\u001b[0;34m*\u001b[0m\u001b[0margs\u001b[0m\u001b[0;34m,\u001b[0m \u001b[0;34m**\u001b[0m\u001b[0mkwds\u001b[0m\u001b[0;34m)\u001b[0m\u001b[0;34m\u001b[0m\u001b[0;34m\u001b[0m\u001b[0m\n\u001b[0m\u001b[1;32m    601\u001b[0m     \u001b[0mweak_wrapped_fn\u001b[0m \u001b[0;34m=\u001b[0m \u001b[0mweakref\u001b[0m\u001b[0;34m.\u001b[0m\u001b[0mref\u001b[0m\u001b[0;34m(\u001b[0m\u001b[0mwrapped_fn\u001b[0m\u001b[0;34m)\u001b[0m\u001b[0;34m\u001b[0m\u001b[0;34m\u001b[0m\u001b[0m\n\u001b[1;32m    602\u001b[0m \u001b[0;34m\u001b[0m\u001b[0m\n",
      "\u001b[0;32m~/anaconda3/envs/mortGP/lib/python3.6/site-packages/tensorflow/python/framework/func_graph.py\u001b[0m in \u001b[0;36mwrapper\u001b[0;34m(*args, **kwargs)\u001b[0m\n\u001b[1;32m    971\u001b[0m           \u001b[0;32mexcept\u001b[0m \u001b[0mException\u001b[0m \u001b[0;32mas\u001b[0m \u001b[0me\u001b[0m\u001b[0;34m:\u001b[0m  \u001b[0;31m# pylint:disable=broad-except\u001b[0m\u001b[0;34m\u001b[0m\u001b[0;34m\u001b[0m\u001b[0m\n\u001b[1;32m    972\u001b[0m             \u001b[0;32mif\u001b[0m \u001b[0mhasattr\u001b[0m\u001b[0;34m(\u001b[0m\u001b[0me\u001b[0m\u001b[0;34m,\u001b[0m \u001b[0;34m\"ag_error_metadata\"\u001b[0m\u001b[0;34m)\u001b[0m\u001b[0;34m:\u001b[0m\u001b[0;34m\u001b[0m\u001b[0;34m\u001b[0m\u001b[0m\n\u001b[0;32m--> 973\u001b[0;31m               \u001b[0;32mraise\u001b[0m \u001b[0me\u001b[0m\u001b[0;34m.\u001b[0m\u001b[0mag_error_metadata\u001b[0m\u001b[0;34m.\u001b[0m\u001b[0mto_exception\u001b[0m\u001b[0;34m(\u001b[0m\u001b[0me\u001b[0m\u001b[0;34m)\u001b[0m\u001b[0;34m\u001b[0m\u001b[0;34m\u001b[0m\u001b[0m\n\u001b[0m\u001b[1;32m    974\u001b[0m             \u001b[0;32melse\u001b[0m\u001b[0;34m:\u001b[0m\u001b[0;34m\u001b[0m\u001b[0;34m\u001b[0m\u001b[0m\n\u001b[1;32m    975\u001b[0m               \u001b[0;32mraise\u001b[0m\u001b[0;34m\u001b[0m\u001b[0;34m\u001b[0m\u001b[0m\n",
      "\u001b[0;31mTypeError\u001b[0m: in user code:\n\n    <ipython-input-41-5a1d49fbd197>:19 optimization_step  *\n        optimizer.minimize(training_loss, model.trainable_variables)\n    /rds/general/user/tar15/home/anaconda3/envs/mortGP/lib/python3.6/site-packages/gpflow/models/training_mixins.py:86 training_loss  *\n        return self._training_loss(data)\n    /rds/general/user/tar15/home/anaconda3/envs/mortGP/lib/python3.6/site-packages/gpflow/models/model.py:57 _training_loss  *\n        return -(self.maximum_log_likelihood_objective(*args, **kwargs) + self.log_prior_density())\n    /rds/general/user/tar15/home/anaconda3/envs/mortGP/lib/python3.6/site-packages/gpflow/models/svgp.py:138 maximum_log_likelihood_objective  *\n        return self.elbo(data)\n    /rds/general/user/tar15/home/anaconda3/envs/mortGP/lib/python3.6/site-packages/gpflow/models/svgp.py:148 elbo  *\n        var_exp = self.likelihood.variational_expectations(f_mean, f_var, Y)\n    /rds/general/user/tar15/home/anaconda3/envs/mortGP/lib/python3.6/site-packages/gpflow/likelihoods/base.py:280 variational_expectations  *\n        ret = self._variational_expectations(Fmu, Fvar, Y)\n    /rds/general/user/tar15/home/anaconda3/envs/mortGP/lib/python3.6/site-packages/gpflow/likelihoods/scalar_continuous.py:59 _variational_expectations  *\n        - 0.5 * ((Y - Fmu) ** 2 + Fvar) / self.variance,\n    /rds/general/user/tar15/home/anaconda3/envs/mortGP/lib/python3.6/site-packages/tensorflow/python/ops/math_ops.py:1141 binary_op_wrapper\n        raise e\n    /rds/general/user/tar15/home/anaconda3/envs/mortGP/lib/python3.6/site-packages/tensorflow/python/ops/math_ops.py:1125 binary_op_wrapper\n        return func(x, y, name=name)\n    /rds/general/user/tar15/home/anaconda3/envs/mortGP/lib/python3.6/site-packages/tensorflow/python/util/dispatch.py:201 wrapper\n        return target(*args, **kwargs)\n    /rds/general/user/tar15/home/anaconda3/envs/mortGP/lib/python3.6/site-packages/tensorflow/python/ops/math_ops.py:527 subtract\n        return gen_math_ops.sub(x, y, name)\n    /rds/general/user/tar15/home/anaconda3/envs/mortGP/lib/python3.6/site-packages/tensorflow/python/ops/gen_math_ops.py:10466 sub\n        \"Sub\", x=x, y=y, name=name)\n    /rds/general/user/tar15/home/anaconda3/envs/mortGP/lib/python3.6/site-packages/tensorflow/python/framework/op_def_library.py:506 _apply_op_helper\n        inferred_from[input_arg.type_attr]))\n\n    TypeError: Input 'y' of 'Sub' Op has type float64 that does not match type int64 of argument 'x'.\n"
     ]
    }
   ],
   "source": [
    "maxiter = ci_niter(10000)\n",
    "\n",
    "logf = run_adam(m, maxiter)\n",
    "plt.plot(np.arange(maxiter)[::10], logf)\n",
    "plt.xlabel(\"iteration\")\n",
    "_ = plt.ylabel(\"ELBO\")"
   ]
  },
  {
   "cell_type": "code",
   "execution_count": null,
   "metadata": {},
   "outputs": [],
   "source": [
    "m"
   ]
  },
  {
   "cell_type": "code",
   "execution_count": null,
   "metadata": {},
   "outputs": [],
   "source": [
    "pY, pYv = m.predict_y(train_x[:100, :])\n",
    "plt.scatter(train_y[:100], pY)\n",
    "plt.plot(train_y[:100], train_y[:100])\n",
    "plt.xlabel(\"train_y\")\n",
    "plt.ylabel(\"pred_y\")"
   ]
  }
 ],
 "metadata": {
  "kernelspec": {
   "display_name": "Python3.6.10 (mortGP)",
   "language": "python",
   "name": "python3_mortgp"
  },
  "language_info": {
   "codemirror_mode": {
    "name": "ipython",
    "version": 3
   },
   "file_extension": ".py",
   "mimetype": "text/x-python",
   "name": "python",
   "nbconvert_exporter": "python",
   "pygments_lexer": "ipython3",
   "version": "3.6.10"
  }
 },
 "nbformat": 4,
 "nbformat_minor": 2
}