{
 "cells": [
  {
   "cell_type": "code",
   "execution_count": 1,
   "metadata": {},
   "outputs": [
    {
     "name": "stderr",
     "output_type": "stream",
     "text": [
      "/Users/tar15/opt/anaconda3/envs/mortality-pymc/lib/python3.10/site-packages/tqdm/auto.py:22: TqdmWarning: IProgress not found. Please update jupyter and ipywidgets. See https://ipywidgets.readthedocs.io/en/stable/user_install.html\n",
      "  from .autonotebook import tqdm as notebook_tqdm\n"
     ]
    }
   ],
   "source": [
    "import pandas as pd\n",
    "import numpy as np\n",
    "from jax import random\n",
    "import jax.numpy as jnp\n",
    "from jax.scipy.special import expit\n",
    "\n",
    "import numpyro\n",
    "import numpyro.distributions as dist\n",
    "from numpyro.infer import MCMC, NUTS\n",
    "from numpyro.infer.reparam import LocScaleReparam\n",
    "\n",
    "import arviz as az"
   ]
  },
  {
   "cell_type": "code",
   "execution_count": 2,
   "metadata": {},
   "outputs": [
    {
     "data": {
      "text/plain": [
       "'0.9.1'"
      ]
     },
     "execution_count": 2,
     "metadata": {},
     "output_type": "execute_result"
    }
   ],
   "source": [
    "numpyro.__version__"
   ]
  },
  {
   "cell_type": "code",
   "execution_count": 3,
   "metadata": {},
   "outputs": [
    {
     "data": {
      "text/html": [
       "<div>\n",
       "<style scoped>\n",
       "    .dataframe tbody tr th:only-of-type {\n",
       "        vertical-align: middle;\n",
       "    }\n",
       "\n",
       "    .dataframe tbody tr th {\n",
       "        vertical-align: top;\n",
       "    }\n",
       "\n",
       "    .dataframe thead th {\n",
       "        text-align: right;\n",
       "    }\n",
       "</style>\n",
       "<table border=\"1\" class=\"dataframe\">\n",
       "  <thead>\n",
       "    <tr style=\"text-align: right;\">\n",
       "      <th></th>\n",
       "      <th>age_group</th>\n",
       "      <th>year</th>\n",
       "      <th>a</th>\n",
       "      <th>s1</th>\n",
       "      <th>s2</th>\n",
       "      <th>t</th>\n",
       "      <th>deaths</th>\n",
       "      <th>population</th>\n",
       "    </tr>\n",
       "  </thead>\n",
       "  <tbody>\n",
       "    <tr>\n",
       "      <th>0</th>\n",
       "      <td>0</td>\n",
       "      <td>2002</td>\n",
       "      <td>0</td>\n",
       "      <td>9</td>\n",
       "      <td>0</td>\n",
       "      <td>0</td>\n",
       "      <td>0</td>\n",
       "      <td>16</td>\n",
       "    </tr>\n",
       "    <tr>\n",
       "      <th>1</th>\n",
       "      <td>1</td>\n",
       "      <td>2002</td>\n",
       "      <td>1</td>\n",
       "      <td>9</td>\n",
       "      <td>0</td>\n",
       "      <td>0</td>\n",
       "      <td>1</td>\n",
       "      <td>50</td>\n",
       "    </tr>\n",
       "    <tr>\n",
       "      <th>2</th>\n",
       "      <td>5</td>\n",
       "      <td>2002</td>\n",
       "      <td>2</td>\n",
       "      <td>9</td>\n",
       "      <td>0</td>\n",
       "      <td>0</td>\n",
       "      <td>0</td>\n",
       "      <td>33</td>\n",
       "    </tr>\n",
       "    <tr>\n",
       "      <th>3</th>\n",
       "      <td>10</td>\n",
       "      <td>2002</td>\n",
       "      <td>3</td>\n",
       "      <td>9</td>\n",
       "      <td>0</td>\n",
       "      <td>0</td>\n",
       "      <td>0</td>\n",
       "      <td>37</td>\n",
       "    </tr>\n",
       "    <tr>\n",
       "      <th>4</th>\n",
       "      <td>15</td>\n",
       "      <td>2002</td>\n",
       "      <td>4</td>\n",
       "      <td>9</td>\n",
       "      <td>0</td>\n",
       "      <td>0</td>\n",
       "      <td>0</td>\n",
       "      <td>52</td>\n",
       "    </tr>\n",
       "  </tbody>\n",
       "</table>\n",
       "</div>"
      ],
      "text/plain": [
       "   age_group  year  a  s1  s2  t  deaths  population\n",
       "0          0  2002  0   9   0  0       0          16\n",
       "1          1  2002  1   9   0  0       1          50\n",
       "2          5  2002  2   9   0  0       0          33\n",
       "3         10  2002  3   9   0  0       0          37\n",
       "4         15  2002  4   9   0  0       0          52"
      ]
     },
     "execution_count": 3,
     "metadata": {},
     "output_type": "execute_result"
    }
   ],
   "source": [
    "data = pd.read_csv(\"https://raw.githubusercontent.com/pyro-ppl/datasets/master/simulated_mortality.csv\")\n",
    "data.head()"
   ]
  },
  {
   "cell_type": "code",
   "execution_count": 4,
   "metadata": {},
   "outputs": [],
   "source": [
    "a, s1, s2, t, deaths, population = data[[\"a\", \"s1\", \"s2\", \"t\", \"deaths\", \"population\"]].to_numpy().T"
   ]
  },
  {
   "cell_type": "code",
   "execution_count": 5,
   "metadata": {},
   "outputs": [],
   "source": [
    "def create_lookup(s1, s2):\n",
    "    \"\"\"\n",
    "    Create a map between s1 indices and unique s2 indices\n",
    "    \"\"\"\n",
    "    lookup = np.column_stack([s1, s2])\n",
    "    lookup = np.unique(lookup, axis=0)\n",
    "    lookup = lookup[lookup[:, 1].argsort()]\n",
    "    return lookup[:, 0]\n",
    "    \n",
    "lookup = create_lookup(s1, s2)"
   ]
  },
  {
   "cell_type": "code",
   "execution_count": 6,
   "metadata": {},
   "outputs": [],
   "source": [
    "reparam_config = {\n",
    "    k: LocScaleReparam(0)\n",
    "    for k in [\n",
    "        \"alpha_s1\",\n",
    "        \"alpha_s2\",\n",
    "        \"alpha_age_drift\",\n",
    "        \"beta_age_drift\",\n",
    "        \"pi_drift\",\n",
    "    ]\n",
    "}"
   ]
  },
  {
   "cell_type": "code",
   "execution_count": 7,
   "metadata": {},
   "outputs": [],
   "source": [
    "@numpyro.handlers.reparam(config=reparam_config)\n",
    "def model(age, space, time, lookup, population, deaths=None):\n",
    "    N_s1 = len(np.unique(lookup))\n",
    "    N_s2 = len(np.unique(space))\n",
    "    N_age = len(np.unique(age))\n",
    "    N_t = len(np.unique(time))\n",
    "    N = len(population)\n",
    "\n",
    "    # plates\n",
    "    age_plate = numpyro.plate(\"age_groups\", N_age, dim=-3)\n",
    "    space_plate = numpyro.plate(\"space\", N_s2, dim=-2)\n",
    "    year_plate = numpyro.plate(\"year\", N_t - 1, dim=-1)\n",
    "\n",
    "    # hyperparameters\n",
    "    sigma_alpha_s1 = numpyro.sample(\"sigma_alpha_s1\", dist.HalfNormal(1.0))\n",
    "    sigma_alpha_s2 = numpyro.sample(\"sigma_alpha_s2\", dist.HalfNormal(1.0))\n",
    "    sigma_alpha_age = numpyro.sample(\"sigma_alpha_age\", dist.HalfNormal(1.0))\n",
    "    sigma_beta_age = numpyro.sample(\"sigma_beta_age\", dist.HalfNormal(1.0))\n",
    "    sigma_pi = numpyro.sample(\"sigma_pi\", dist.HalfNormal(1.0))\n",
    "\n",
    "    # spatial hierarchy\n",
    "    with numpyro.plate(\"s1\", N_s1, dim=-2):\n",
    "        alpha_s1 = numpyro.sample(\"alpha_s1\", dist.Normal(0, sigma_alpha_s1))\n",
    "    with space_plate:\n",
    "        alpha_s2 = numpyro.sample(\n",
    "            \"alpha_s2\", dist.Normal(alpha_s1[lookup], sigma_alpha_s2)\n",
    "        )\n",
    "\n",
    "    # age\n",
    "    with age_plate:\n",
    "        alpha_age_drift_scale = jnp.pad(\n",
    "            jnp.broadcast_to(sigma_alpha_age, N_age - 1),\n",
    "            (1, 0),\n",
    "            constant_values=10.0,  # pad so first term is alpha0, prior N(0, 10)\n",
    "        )[:, jnp.newaxis, jnp.newaxis]\n",
    "        alpha_age_drift = numpyro.sample(\n",
    "            \"alpha_age_drift\", dist.Normal(0, alpha_age_drift_scale)\n",
    "        )\n",
    "        alpha_age = jnp.cumsum(alpha_age_drift, -3)\n",
    "\n",
    "        beta_age_drift_scale = jnp.pad(\n",
    "            jnp.broadcast_to(sigma_beta_age, N_age - 1), (1, 0), constant_values=10.0\n",
    "        )[:, jnp.newaxis, jnp.newaxis]\n",
    "        beta_age_drift = numpyro.sample(\n",
    "            \"beta_age_drift\", dist.Normal(0, beta_age_drift_scale)\n",
    "        )\n",
    "        beta_age = jnp.cumsum(beta_age_drift, -3)\n",
    "        beta_age_cum = jnp.outer(beta_age, jnp.arange(N_t))[:, jnp.newaxis, :]\n",
    "\n",
    "    # random walk over time\n",
    "    with year_plate:\n",
    "        pi_drift = numpyro.sample(\"pi_drift\", dist.Normal(0, sigma_pi))\n",
    "        pi = jnp.pad(jnp.cumsum(pi_drift, -1), (1, 0))\n",
    "\n",
    "    # likelihood\n",
    "    latent_rate = alpha_age + beta_age_cum + alpha_s2 + pi\n",
    "    with numpyro.plate(\"N\", N):\n",
    "        mu_logit = latent_rate[space, age, time]\n",
    "        mu = numpyro.deterministic(\"mu\", expit(mu_logit))\n",
    "        numpyro.sample(\"deaths\", dist.Binomial(population, mu), obs=deaths)\n"
   ]
  },
  {
   "cell_type": "code",
   "execution_count": 9,
   "metadata": {},
   "outputs": [
    {
     "data": {
      "image/svg+xml": "<?xml version=\"1.0\" encoding=\"UTF-8\" standalone=\"no\"?>\n<!DOCTYPE svg PUBLIC \"-//W3C//DTD SVG 1.1//EN\"\n \"http://www.w3.org/Graphics/SVG/1.1/DTD/svg11.dtd\">\n<!-- Generated by graphviz version 2.50.0 (0)\n -->\n<!-- Pages: 1 -->\n<svg width=\"1117pt\" height=\"321pt\"\n viewBox=\"0.00 0.00 1117.20 321.00\" xmlns=\"http://www.w3.org/2000/svg\" xmlns:xlink=\"http://www.w3.org/1999/xlink\">\n<g id=\"graph0\" class=\"graph\" transform=\"scale(1 1) rotate(0) translate(4 317)\">\n<polygon fill=\"white\" stroke=\"transparent\" points=\"-4,4 -4,-317 1113.2,-317 1113.2,4 -4,4\"/>\n<g id=\"clust1\" class=\"cluster\">\n<title>cluster_age_groups</title>\n<polygon fill=\"none\" stroke=\"black\" points=\"389.2,-91 389.2,-166 849.2,-166 849.2,-91 389.2,-91\"/>\n<text text-anchor=\"middle\" x=\"809.7\" y=\"-98.8\" font-family=\"Times,serif\" font-size=\"14.00\">age_groups</text>\n</g>\n<g id=\"clust2\" class=\"cluster\">\n<title>cluster_space</title>\n<polygon fill=\"none\" stroke=\"black\" points=\"127.2,-91 127.2,-166 311.2,-166 311.2,-91 127.2,-91\"/>\n<text text-anchor=\"middle\" x=\"287.7\" y=\"-98.8\" font-family=\"Times,serif\" font-size=\"14.00\">space</text>\n</g>\n<g id=\"clust3\" class=\"cluster\">\n<title>cluster_year</title>\n<polygon fill=\"none\" stroke=\"black\" points=\"927.2,-91 927.2,-166 1101.2,-166 1101.2,-91 927.2,-91\"/>\n<text text-anchor=\"middle\" x=\"1081.2\" y=\"-98.8\" font-family=\"Times,serif\" font-size=\"14.00\">year</text>\n</g>\n<g id=\"clust4\" class=\"cluster\">\n<title>cluster_s1</title>\n<polygon fill=\"none\" stroke=\"black\" points=\"19.2,-174 19.2,-249 203.2,-249 203.2,-174 19.2,-174\"/>\n<text text-anchor=\"middle\" x=\"188.7\" y=\"-181.8\" font-family=\"Times,serif\" font-size=\"14.00\">s1</text>\n</g>\n<g id=\"clust5\" class=\"cluster\">\n<title>cluster_N</title>\n<polygon fill=\"none\" stroke=\"black\" points=\"396.2,-8 396.2,-83 478.2,-83 478.2,-8 396.2,-8\"/>\n<text text-anchor=\"middle\" x=\"465.2\" y=\"-15.8\" font-family=\"Times,serif\" font-size=\"14.00\">N</text>\n</g>\n<!-- sigma_alpha_s1 -->\n<g id=\"node1\" class=\"node\">\n<title>sigma_alpha_s1</title>\n<ellipse fill=\"white\" stroke=\"black\" cx=\"111.2\" cy=\"-295\" rx=\"67.69\" ry=\"18\"/>\n<text text-anchor=\"middle\" x=\"111.2\" y=\"-291.3\" font-family=\"Times,serif\" font-size=\"14.00\">sigma_alpha_s1</text>\n</g>\n<!-- alpha_s2_decentered -->\n<g id=\"node8\" class=\"node\">\n<title>alpha_s2_decentered</title>\n<ellipse fill=\"white\" stroke=\"black\" cx=\"219.2\" cy=\"-140\" rx=\"84.49\" ry=\"18\"/>\n<text text-anchor=\"middle\" x=\"219.2\" y=\"-136.3\" font-family=\"Times,serif\" font-size=\"14.00\">alpha_s2_decentered</text>\n</g>\n<!-- sigma_alpha_s1&#45;&gt;alpha_s2_decentered -->\n<g id=\"edge2\" class=\"edge\">\n<title>sigma_alpha_s1&#45;&gt;alpha_s2_decentered</title>\n<path fill=\"none\" stroke=\"black\" d=\"M159.25,-282.29C177.08,-275.5 195.73,-265.01 207.2,-249 223.96,-225.59 225,-191.71 223.11,-168.16\"/>\n<polygon fill=\"black\" stroke=\"black\" points=\"226.58,-167.73 222.08,-158.14 219.62,-168.45 226.58,-167.73\"/>\n</g>\n<!-- alpha_s1_decentered -->\n<g id=\"node10\" class=\"node\">\n<title>alpha_s1_decentered</title>\n<ellipse fill=\"white\" stroke=\"black\" cx=\"111.2\" cy=\"-223\" rx=\"84.49\" ry=\"18\"/>\n<text text-anchor=\"middle\" x=\"111.2\" y=\"-219.3\" font-family=\"Times,serif\" font-size=\"14.00\">alpha_s1_decentered</text>\n</g>\n<!-- sigma_alpha_s1&#45;&gt;alpha_s1_decentered -->\n<g id=\"edge1\" class=\"edge\">\n<title>sigma_alpha_s1&#45;&gt;alpha_s1_decentered</title>\n<path fill=\"none\" stroke=\"black\" d=\"M111.2,-276.7C111.2,-268.98 111.2,-259.71 111.2,-251.11\"/>\n<polygon fill=\"black\" stroke=\"black\" points=\"114.7,-251.1 111.2,-241.1 107.7,-251.1 114.7,-251.1\"/>\n</g>\n<!-- deaths -->\n<g id=\"node11\" class=\"node\">\n<title>deaths</title>\n<ellipse fill=\"white\" stroke=\"black\" cx=\"437.2\" cy=\"-57\" rx=\"33.29\" ry=\"18\"/>\n<text text-anchor=\"middle\" x=\"437.2\" y=\"-53.3\" font-family=\"Times,serif\" font-size=\"14.00\">deaths</text>\n</g>\n<!-- sigma_alpha_s1&#45;&gt;deaths -->\n<g id=\"edge8\" class=\"edge\">\n<title>sigma_alpha_s1&#45;&gt;deaths</title>\n<path fill=\"none\" stroke=\"black\" d=\"M61.73,-282.72C43.92,-276.01 25.66,-265.47 15.2,-249 -27.24,-182.23 25.76,-124.99 97.2,-91 148.64,-66.52 314.37,-60.2 393.87,-58.57\"/>\n<polygon fill=\"black\" stroke=\"black\" points=\"394.1,-62.06 404.03,-58.37 393.97,-55.06 394.1,-62.06\"/>\n</g>\n<!-- sigma_alpha_s2 -->\n<g id=\"node2\" class=\"node\">\n<title>sigma_alpha_s2</title>\n<ellipse fill=\"white\" stroke=\"black\" cx=\"327.2\" cy=\"-223\" rx=\"67.69\" ry=\"18\"/>\n<text text-anchor=\"middle\" x=\"327.2\" y=\"-219.3\" font-family=\"Times,serif\" font-size=\"14.00\">sigma_alpha_s2</text>\n</g>\n<!-- sigma_alpha_s2&#45;&gt;alpha_s2_decentered -->\n<g id=\"edge3\" class=\"edge\">\n<title>sigma_alpha_s2&#45;&gt;alpha_s2_decentered</title>\n<path fill=\"none\" stroke=\"black\" d=\"M305.6,-205.8C289.52,-193.74 267.35,-177.12 249.5,-163.73\"/>\n<polygon fill=\"black\" stroke=\"black\" points=\"251.23,-160.65 241.13,-157.45 247.03,-166.25 251.23,-160.65\"/>\n</g>\n<!-- sigma_alpha_s2&#45;&gt;deaths -->\n<g id=\"edge9\" class=\"edge\">\n<title>sigma_alpha_s2&#45;&gt;deaths</title>\n<path fill=\"none\" stroke=\"black\" d=\"M328.29,-204.61C330.86,-177.32 339.48,-124.14 368.2,-91 376.35,-81.59 387.78,-74.65 399,-69.63\"/>\n<polygon fill=\"black\" stroke=\"black\" points=\"400.36,-72.86 408.3,-65.85 397.72,-66.37 400.36,-72.86\"/>\n</g>\n<!-- sigma_alpha_age -->\n<g id=\"node3\" class=\"node\">\n<title>sigma_alpha_age</title>\n<ellipse fill=\"white\" stroke=\"black\" cx=\"496.2\" cy=\"-223\" rx=\"72.29\" ry=\"18\"/>\n<text text-anchor=\"middle\" x=\"496.2\" y=\"-219.3\" font-family=\"Times,serif\" font-size=\"14.00\">sigma_alpha_age</text>\n</g>\n<!-- alpha_age_drift_decentered -->\n<g id=\"node6\" class=\"node\">\n<title>alpha_age_drift_decentered</title>\n<ellipse fill=\"white\" stroke=\"black\" cx=\"506.2\" cy=\"-140\" rx=\"108.58\" ry=\"18\"/>\n<text text-anchor=\"middle\" x=\"506.2\" y=\"-136.3\" font-family=\"Times,serif\" font-size=\"14.00\">alpha_age_drift_decentered</text>\n</g>\n<!-- sigma_alpha_age&#45;&gt;alpha_age_drift_decentered -->\n<g id=\"edge5\" class=\"edge\">\n<title>sigma_alpha_age&#45;&gt;alpha_age_drift_decentered</title>\n<path fill=\"none\" stroke=\"black\" d=\"M498.32,-204.82C499.63,-194.19 501.34,-180.31 502.84,-168.2\"/>\n<polygon fill=\"black\" stroke=\"black\" points=\"506.33,-168.51 504.08,-158.15 499.38,-167.65 506.33,-168.51\"/>\n</g>\n<!-- sigma_alpha_age&#45;&gt;deaths -->\n<g id=\"edge10\" class=\"edge\">\n<title>sigma_alpha_age&#45;&gt;deaths</title>\n<path fill=\"none\" stroke=\"black\" d=\"M467.5,-206.25C449.5,-196.57 425.72,-184.12 404.2,-174 395.91,-170.1 390.27,-173.63 385.2,-166 366.76,-138.23 369.14,-120.21 385.2,-91 389.15,-83.82 395.39,-77.98 402.2,-73.32\"/>\n<polygon fill=\"black\" stroke=\"black\" points=\"404.23,-76.19 411,-68.04 400.63,-70.19 404.23,-76.19\"/>\n</g>\n<!-- sigma_beta_age -->\n<g id=\"node4\" class=\"node\">\n<title>sigma_beta_age</title>\n<ellipse fill=\"white\" stroke=\"black\" cx=\"757.2\" cy=\"-223\" rx=\"67.69\" ry=\"18\"/>\n<text text-anchor=\"middle\" x=\"757.2\" y=\"-219.3\" font-family=\"Times,serif\" font-size=\"14.00\">sigma_beta_age</text>\n</g>\n<!-- beta_age_drift_decentered -->\n<g id=\"node7\" class=\"node\">\n<title>beta_age_drift_decentered</title>\n<ellipse fill=\"white\" stroke=\"black\" cx=\"737.2\" cy=\"-140\" rx=\"103.98\" ry=\"18\"/>\n<text text-anchor=\"middle\" x=\"737.2\" y=\"-136.3\" font-family=\"Times,serif\" font-size=\"14.00\">beta_age_drift_decentered</text>\n</g>\n<!-- sigma_beta_age&#45;&gt;beta_age_drift_decentered -->\n<g id=\"edge6\" class=\"edge\">\n<title>sigma_beta_age&#45;&gt;beta_age_drift_decentered</title>\n<path fill=\"none\" stroke=\"black\" d=\"M752.96,-204.82C750.33,-194.19 746.9,-180.31 743.91,-168.2\"/>\n<polygon fill=\"black\" stroke=\"black\" points=\"747.23,-167.02 741.43,-158.15 740.43,-168.7 747.23,-167.02\"/>\n</g>\n<!-- sigma_beta_age&#45;&gt;deaths -->\n<g id=\"edge11\" class=\"edge\">\n<title>sigma_beta_age&#45;&gt;deaths</title>\n<path fill=\"none\" stroke=\"black\" d=\"M798.93,-208.81C819.12,-200.09 841.47,-186.41 853.2,-166 869.8,-137.1 875.82,-115.48 853.2,-91 828.3,-64.05 582.31,-59.09 480.73,-58.19\"/>\n<polygon fill=\"black\" stroke=\"black\" points=\"480.53,-54.69 470.5,-58.11 480.47,-61.69 480.53,-54.69\"/>\n</g>\n<!-- sigma_pi -->\n<g id=\"node5\" class=\"node\">\n<title>sigma_pi</title>\n<ellipse fill=\"white\" stroke=\"black\" cx=\"960.2\" cy=\"-223\" rx=\"43.59\" ry=\"18\"/>\n<text text-anchor=\"middle\" x=\"960.2\" y=\"-219.3\" font-family=\"Times,serif\" font-size=\"14.00\">sigma_pi</text>\n</g>\n<!-- pi_drift_decentered -->\n<g id=\"node9\" class=\"node\">\n<title>pi_drift_decentered</title>\n<ellipse fill=\"white\" stroke=\"black\" cx=\"1014.2\" cy=\"-140\" rx=\"79.09\" ry=\"18\"/>\n<text text-anchor=\"middle\" x=\"1014.2\" y=\"-136.3\" font-family=\"Times,serif\" font-size=\"14.00\">pi_drift_decentered</text>\n</g>\n<!-- sigma_pi&#45;&gt;pi_drift_decentered -->\n<g id=\"edge7\" class=\"edge\">\n<title>sigma_pi&#45;&gt;pi_drift_decentered</title>\n<path fill=\"none\" stroke=\"black\" d=\"M971.39,-205.22C978.87,-194 988.85,-179.03 997.29,-166.36\"/>\n<polygon fill=\"black\" stroke=\"black\" points=\"1000.2,-168.3 1002.84,-158.04 994.38,-164.42 1000.2,-168.3\"/>\n</g>\n<!-- sigma_pi&#45;&gt;deaths -->\n<g id=\"edge12\" class=\"edge\">\n<title>sigma_pi&#45;&gt;deaths</title>\n<path fill=\"none\" stroke=\"black\" d=\"M949.17,-205.35C941.8,-194.22 931.9,-179.24 923.2,-166 901.33,-132.72 908.48,-111.26 874.2,-91 840.87,-71.31 584.36,-62.07 480.58,-59.11\"/>\n<polygon fill=\"black\" stroke=\"black\" points=\"480.53,-55.61 470.44,-58.83 480.34,-62.6 480.53,-55.61\"/>\n</g>\n<!-- alpha_age_drift_decentered&#45;&gt;deaths -->\n<g id=\"edge15\" class=\"edge\">\n<title>alpha_age_drift_decentered&#45;&gt;deaths</title>\n<path fill=\"none\" stroke=\"black\" d=\"M491.56,-121.82C481.47,-109.98 467.95,-94.09 456.91,-81.14\"/>\n<polygon fill=\"black\" stroke=\"black\" points=\"459.56,-78.85 450.41,-73.51 454.23,-83.39 459.56,-78.85\"/>\n</g>\n<!-- beta_age_drift_decentered&#45;&gt;deaths -->\n<g id=\"edge16\" class=\"edge\">\n<title>beta_age_drift_decentered&#45;&gt;deaths</title>\n<path fill=\"none\" stroke=\"black\" d=\"M704.31,-122.68C682.14,-112.27 651.99,-99.24 624.2,-91 575.66,-76.61 518.07,-67.61 479.75,-62.71\"/>\n<polygon fill=\"black\" stroke=\"black\" points=\"479.83,-59.2 469.47,-61.44 478.97,-66.14 479.83,-59.2\"/>\n</g>\n<!-- alpha_s2_decentered&#45;&gt;deaths -->\n<g id=\"edge14\" class=\"edge\">\n<title>alpha_s2_decentered&#45;&gt;deaths</title>\n<path fill=\"none\" stroke=\"black\" d=\"M248.15,-123.04C267.33,-112.91 293.28,-100.06 317.2,-91 343.25,-81.14 373.5,-72.84 397.1,-67.03\"/>\n<polygon fill=\"black\" stroke=\"black\" points=\"398.21,-70.36 407.11,-64.62 396.57,-63.56 398.21,-70.36\"/>\n</g>\n<!-- pi_drift_decentered&#45;&gt;deaths -->\n<g id=\"edge17\" class=\"edge\">\n<title>pi_drift_decentered&#45;&gt;deaths</title>\n<path fill=\"none\" stroke=\"black\" d=\"M989.7,-122.81C971.58,-111.75 945.87,-97.89 921.2,-91 838.95,-68.04 583.31,-60.75 480.58,-58.71\"/>\n<polygon fill=\"black\" stroke=\"black\" points=\"480.62,-55.21 470.55,-58.52 480.48,-62.21 480.62,-55.21\"/>\n</g>\n<!-- alpha_s1_decentered&#45;&gt;alpha_s2_decentered -->\n<g id=\"edge4\" class=\"edge\">\n<title>alpha_s1_decentered&#45;&gt;alpha_s2_decentered</title>\n<path fill=\"none\" stroke=\"black\" d=\"M133.05,-205.61C149.05,-193.61 170.96,-177.18 188.69,-163.88\"/>\n<polygon fill=\"black\" stroke=\"black\" points=\"191.1,-166.45 197,-157.65 186.9,-160.85 191.1,-166.45\"/>\n</g>\n<!-- alpha_s1_decentered&#45;&gt;deaths -->\n<g id=\"edge13\" class=\"edge\">\n<title>alpha_s1_decentered&#45;&gt;deaths</title>\n<path fill=\"none\" stroke=\"black\" d=\"M106.71,-204.75C100.55,-176.69 93.36,-121.24 123.2,-91 141.83,-72.12 311.79,-62.92 393.59,-59.56\"/>\n<polygon fill=\"black\" stroke=\"black\" points=\"394.21,-63.04 404.06,-59.14 393.93,-56.05 394.21,-63.04\"/>\n</g>\n</g>\n</svg>\n",
      "text/plain": [
       "<graphviz.graphs.Digraph at 0x1407a6980>"
      ]
     },
     "execution_count": 9,
     "metadata": {},
     "output_type": "execute_result"
    }
   ],
   "source": [
    "numpyro.render_model(\n",
    "    model,\n",
    "    model_args=(\n",
    "        a,\n",
    "        s2,\n",
    "        t,\n",
    "        lookup,\n",
    "        population,\n",
    "    )\n",
    ")"
   ]
  }
 ],
 "metadata": {
  "interpreter": {
   "hash": "bdcc46fe722c6bc714ab4b851bffa689594397199bde242d34b6fb3fc808098f"
  },
  "kernelspec": {
   "display_name": "Python 3.10.4 ('mortality-pymc')",
   "language": "python",
   "name": "python3"
  },
  "language_info": {
   "codemirror_mode": {
    "name": "ipython",
    "version": 3
   },
   "file_extension": ".py",
   "mimetype": "text/x-python",
   "name": "python",
   "nbconvert_exporter": "python",
   "pygments_lexer": "ipython3",
   "version": "3.10.4"
  },
  "orig_nbformat": 4
 },
 "nbformat": 4,
 "nbformat_minor": 2
}
