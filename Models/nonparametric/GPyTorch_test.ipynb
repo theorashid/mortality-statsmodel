{
 "cells": [
  {
   "cell_type": "code",
   "execution_count": 3,
   "metadata": {},
   "outputs": [],
   "source": [
    "import math\n",
    "import torch\n",
    "import pyro\n",
    "import tqdm\n",
    "import gpytorch\n",
    "import numpy as np\n",
    "from matplotlib import pyplot as plt\n",
    "\n",
    "%matplotlib inline"
   ]
  },
  {
   "cell_type": "code",
   "execution_count": 7,
   "metadata": {},
   "outputs": [],
   "source": [
    "intensity_max = 50\n",
    "true_intensity_function = lambda times: torch.cos(times * 2 * math.pi).add(1).mul(intensity_max / 2.)"
   ]
  },
  {
   "cell_type": "code",
   "execution_count": 8,
   "metadata": {},
   "outputs": [
    {
     "name": "stdout",
     "output_type": "stream",
     "text": [
      "Number of sampled arrivals: 50\n"
     ]
    }
   ],
   "source": [
    "max_time = 2\n",
    "\n",
    "times = torch.linspace(0, max_time, 128)\n",
    "num_samples = int(pyro.distributions.Poisson(true_intensity_function(times).mean() * max_time).sample().item())\n",
    "print(f\"Number of sampled arrivals: {num_samples}\")"
   ]
  },
  {
   "cell_type": "code",
   "execution_count": 9,
   "metadata": {},
   "outputs": [],
   "source": [
    "def log_prob_accept(val):\n",
    "    intensities = true_intensity_function(val)\n",
    "    res = torch.log(intensities / (true_intensity_function(times).mean() * max_time))\n",
    "    return res\n",
    "\n",
    "arrival_times = pyro.distributions.Rejector(\n",
    "    propose=pyro.distributions.Uniform(times.min(), times.max()),\n",
    "    log_prob_accept=log_prob_accept,\n",
    "    log_scale=0.\n",
    ")(torch.Size([num_samples]))"
   ]
  },
  {
   "cell_type": "code",
   "execution_count": 10,
   "metadata": {},
   "outputs": [
    {
     "data": {
      "image/png": "[encoded data removed]",
      "text/plain": [
       "<Figure size 432x288 with 1 Axes>"
      ]
     },
     "metadata": {
      "needs_background": "light"
     },
     "output_type": "display_data"
    }
   ],
   "source": [
    "fig, ax = plt.subplots(1, 1)\n",
    "ax.plot(times, true_intensity_function(times), \"--\", label=r\"True $\\lambda$\")\n",
    "ax.set_xlabel(\"Time\")\n",
    "ax.set_ylabel(\"Intensity ($\\lambda$)\")\n",
    "ax.scatter(arrival_times, torch.zeros_like(arrival_times), label=r\"Observed Arrivals\")\n",
    "ax.legend(loc=\"best\")\n",
    "None"
   ]
  },
  {
   "cell_type": "code",
   "execution_count": 41,
   "metadata": {},
   "outputs": [
    {
     "data": {
      "text/plain": [
       "tensor([-0.4382, -0.1743,  0.6271,  0.1634,  0.0730,  0.1451,  0.6528, -0.2763,\n",
       "         0.3038,  0.6353,  0.5710,  0.2882, -0.4527,  0.5850, -1.2716,  0.5787,\n",
       "        -1.0201, -0.0902, -1.5452,  0.6423, -2.2123,  0.1847,  0.1630, -0.0491,\n",
       "         0.1402,  0.5290, -1.8137, -6.4122, -1.2050, -0.0583,  0.2432, -0.0624,\n",
       "        -0.2300, -2.2876,  0.1834,  0.2225, -1.4369,  0.6873, -1.2175, -0.0141,\n",
       "         0.0290,  0.3345, -1.7572,  0.0442, -0.3495, -0.0773,  0.5506,  0.6838,\n",
       "         0.1673, -0.0144, -3.4296,  0.1043,  0.6678,  0.2266, -0.1902,  0.5293])"
      ]
     },
     "execution_count": 41,
     "metadata": {},
     "output_type": "execute_result"
    }
   ],
   "source": [
    "arrival_times.log()"
   ]
  },
  {
   "cell_type": "code",
   "execution_count": 42,
   "metadata": {},
   "outputs": [],
   "source": [
    "class GPModel(gpytorch.models.ApproximateGP):\n",
    "    def __init__(self, num_arrivals, max_time, num_inducing=32, name_prefix=\"cox_gp_model\"):\n",
    "        self.name_prefix = name_prefix\n",
    "        self.max_time = max_time\n",
    "        self.mean_intensity = (num_arrivals / max_time)\n",
    "        \n",
    "        # Define the variational distribution and strategy of the GP\n",
    "        # We will initialize the inducing points to lie on a grid from 0 to T\n",
    "        inducing_points = torch.linspace(0, max_time, num_inducing).unsqueeze(-1)\n",
    "        variational_distribution = gpytorch.variational.CholeskyVariationalDistribution(num_inducing_points=num_inducing)\n",
    "        variational_strategy = gpytorch.variational.VariationalStrategy(self, inducing_points, variational_distribution)\n",
    "\n",
    "        # Define model\n",
    "        super().__init__(variational_strategy=variational_strategy)\n",
    "\n",
    "        # Define mean and kernel\n",
    "        self.mean_module = gpytorch.means.ZeroMean()\n",
    "        self.covar_module = gpytorch.kernels.ScaleKernel(gpytorch.kernels.RBFKernel())\n",
    "    \n",
    "    def forward(self, times):\n",
    "        mean = self.mean_module(times)\n",
    "        covar = self.covar_module(times)\n",
    "        return gpytorch.distributions.MultivariateNormal(mean, covar)\n",
    "\n",
    "    def guide(self, arrival_times, quadrature_times):\n",
    "        # Draw samples from q(f) at arrival_times\n",
    "        # Also draw samples from q(f) at evenly-spaced points (quadrature_times)\n",
    "        with pyro.plate(self.name_prefix + \".times_plate\", dim=-1):\n",
    "            pyro.sample(\n",
    "                self.name_prefix + \".function_samples\",\n",
    "                self.pyro_guide(torch.cat([arrival_times, quadrature_times], -1))\n",
    "            )\n",
    "\n",
    "    def model(self, arrival_times, quadrature_times):\n",
    "        pyro.module(self.name_prefix + \".gp\", self)\n",
    "        \n",
    "        # Draw samples from p(f) at arrival times\n",
    "        # Also draw samples from p(f) at evenly-spaced points (quadrature_times)\n",
    "        with pyro.plate(self.name_prefix + \".times_plate\", dim=-1):\n",
    "            function_samples = pyro.sample(\n",
    "                self.name_prefix + \".function_samples\",\n",
    "                self.pyro_model(torch.cat([arrival_times, quadrature_times], -1))\n",
    "            )\n",
    "        \n",
    "        ####\n",
    "        # Convert function samples into intensity samples, using the function above\n",
    "        ####\n",
    "        intensity_samples = function_samples.exp() * self.mean_intensity\n",
    "        \n",
    "        # Divide the intensity samples into arrival_intensity_samples and quadrature_intensity_samples\n",
    "        arrival_intensity_samples, quadrature_intensity_samples = intensity_samples.split([\n",
    "            arrival_times.size(-1), quadrature_times.size(-1)\n",
    "        ], dim=-1)\n",
    "\n",
    "        ####\n",
    "        # Compute the log_likelihood, using the method described above\n",
    "        ####\n",
    "        arrival_log_intensities = arrival_intensity_samples.log().sum(dim=-1)\n",
    "        est_num_arrivals = quadrature_intensity_samples.mean(dim=-1).mul(self.max_time)\n",
    "        log_likelihood = arrival_log_intensities - est_num_arrivals\n",
    "        pyro.factor(self.name_prefix + \".log_likelihood\", log_likelihood)"
   ]
  },
  {
   "cell_type": "code",
   "execution_count": 43,
   "metadata": {},
   "outputs": [],
   "source": [
    "model = GPModel(arrival_times.numel(), max_time)"
   ]
  },
  {
   "cell_type": "code",
   "execution_count": 46,
   "metadata": {},
   "outputs": [
    {
     "data": {
      "text/plain": [
       "'cox_gp_model'"
      ]
     },
     "execution_count": 46,
     "metadata": {},
     "output_type": "execute_result"
    }
   ],
   "source": [
    "model.name_prefix"
   ]
  },
  {
   "cell_type": "code",
   "execution_count": 47,
   "metadata": {},
   "outputs": [],
   "source": [
    "quadrature_times = torch.linspace(0, max_time, 64)"
   ]
  },
  {
   "cell_type": "code",
   "execution_count": 48,
   "metadata": {},
   "outputs": [
    {
     "data": {
      "application/vnd.jupyter.widget-view+json": {
       "model_id": "bb71d5ed774840fca67c1fa5d5251f41",
       "version_major": 2,
       "version_minor": 0
      },
      "text/plain": [
       "HBox(children=(FloatProgress(value=0.0, max=200.0), HTML(value='')))"
      ]
     },
     "metadata": {},
     "output_type": "display_data"
    },
    {
     "name": "stdout",
     "output_type": "stream",
     "text": [
      "\n"
     ]
    }
   ],
   "source": [
    "num_iter = 200\n",
    "num_particles = 32\n",
    "\n",
    "\n",
    "def train(lr=0.01):\n",
    "    optimizer = pyro.optim.Adam({\"lr\": lr})\n",
    "    loss = pyro.infer.Trace_ELBO(num_particles=num_particles, vectorize_particles=True, retain_graph=True)\n",
    "    infer = pyro.infer.SVI(model.model, model.guide, optimizer, loss=loss)\n",
    "\n",
    "    model.train()\n",
    "    loader = tqdm.notebook.tqdm(range(num_iter))\n",
    "    for i in loader:\n",
    "        loss = infer.step(arrival_times, quadrature_times)\n",
    "        loader.set_postfix(loss=loss)\n",
    "        \n",
    "train()"
   ]
  },
  {
   "cell_type": "code",
   "execution_count": 49,
   "metadata": {},
   "outputs": [
    {
     "data": {
      "image/png": "[encoded data removed]",
      "text/plain": [
       "<Figure size 432x288 with 1 Axes>"
      ]
     },
     "metadata": {
      "needs_background": "light"
     },
     "output_type": "display_data"
    }
   ],
   "source": [
    "# Get the average predicted intensity function, and the intensity confidence region\n",
    "model.eval()\n",
    "with torch.no_grad():\n",
    "    function_dist = model(quadrature_times)\n",
    "    intensity_samples = function_dist(torch.Size([1000])).exp() * model.mean_intensity\n",
    "    lower, mean, upper = percentiles_from_samples(intensity_samples)\n",
    "\n",
    "# Plot the predicted intensity function\n",
    "fig, ax = plt.subplots(1, 1)\n",
    "line, = ax.plot(quadrature_times, mean, label=r\"True $\\lambda$\")\n",
    "ax.fill_between(quadrature_times, lower, upper, color=line.get_color(), alpha=0.5)\n",
    "ax.plot(quadrature_times, true_intensity_function(quadrature_times), \"--\", color=\"k\", label=r\"Pred. $\\lambda$\")\n",
    "ax.legend(loc=\"best\")\n",
    "ax.set_xlabel(\"Time\")\n",
    "ax.set_ylabel(\"Intensity ($\\lambda$)\")\n",
    "ax.scatter(arrival_times, torch.zeros_like(arrival_times), label=r\"Observed Arrivals\")\n",
    "None"
   ]
  },
  {
   "cell_type": "code",
   "execution_count": null,
   "metadata": {},
   "outputs": [],
   "source": []
  },
  {
   "cell_type": "code",
   "execution_count": null,
   "metadata": {},
   "outputs": [],
   "source": []
  },
  {
   "cell_type": "code",
   "execution_count": null,
   "metadata": {},
   "outputs": [],
   "source": []
  },
  {
   "cell_type": "code",
   "execution_count": null,
   "metadata": {},
   "outputs": [],
   "source": []
  },
  {
   "cell_type": "code",
   "execution_count": null,
   "metadata": {},
   "outputs": [],
   "source": []
  },
  {
   "cell_type": "code",
   "execution_count": 2,
   "metadata": {},
   "outputs": [
    {
     "data": {
      "text/plain": [
       "Text(0.5, 1.0, 'Samples from exp. distrib.')"
      ]
     },
     "execution_count": 2,
     "metadata": {},
     "output_type": "execute_result"
    },
    {
     "data": {
      "image/png": "[encoded data removed]",
      "text/plain": [
       "<Figure size 720x216 with 2 Axes>"
      ]
     },
     "metadata": {
      "needs_background": "light"
     },
     "output_type": "display_data"
    }
   ],
   "source": [
    "# Here we specify a 'true' latent function lambda\n",
    "scale = lambda x: np.sin(2 * math.pi * x) + 1 \n",
    "\n",
    "# Generate synthetic data\n",
    "# here we generate some synthetic samples\n",
    "NSamp = 100\n",
    "\n",
    "X = np.linspace(0, 1, 100) \n",
    "\n",
    "fig, (lambdaf, samples) = plt.subplots(1, 2, figsize=(10, 3))\n",
    "\n",
    "lambdaf.plot(X,scale(X))\n",
    "lambdaf.set_xlabel('x')\n",
    "lambdaf.set_ylabel('$\\lambda$')\n",
    "lambdaf.set_title('Latent function')\n",
    "\n",
    "Y = np.zeros_like(X)\n",
    "for i,x in enumerate(X):\n",
    "    Y[i] = np.random.exponential(scale(x), 1)\n",
    "samples.scatter(X,Y)\n",
    "samples.set_xlabel('x')\n",
    "samples.set_ylabel('y')\n",
    "samples.set_title('Samples from exp. distrib.')"
   ]
  },
  {
   "cell_type": "code",
   "execution_count": 3,
   "metadata": {},
   "outputs": [],
   "source": [
    "train_x = torch.tensor(X).float()\n",
    "train_y = torch.tensor(Y).float()"
   ]
  },
  {
   "cell_type": "code",
   "execution_count": 4,
   "metadata": {},
   "outputs": [],
   "source": [
    "class PVGPRegressionModel(gpytorch.models.ApproximateGP):\n",
    "    def __init__(self, num_inducing=64, name_prefix=\"mixture_gp\"):\n",
    "        self.name_prefix = name_prefix\n",
    "        \n",
    "        # Define all the variational stuff\n",
    "        inducing_points = torch.linspace(0, 1, num_inducing)\n",
    "        variational_strategy = gpytorch.variational.VariationalStrategy(\n",
    "            self, inducing_points,\n",
    "            gpytorch.variational.CholeskyVariationalDistribution(num_inducing_points=num_inducing)\n",
    "        )\n",
    "        \n",
    "        # Standard initializtation\n",
    "        super().__init__(variational_strategy)\n",
    "        \n",
    "        # Mean, covar, likelihood\n",
    "        self.mean_module = gpytorch.means.ConstantMean()\n",
    "        self.covar_module = gpytorch.kernels.ScaleKernel(gpytorch.kernels.RBFKernel())\n",
    "\n",
    "    def forward(self, x):\n",
    "        mean = self.mean_module(x)\n",
    "        covar = self.covar_module(x)\n",
    "        return gpytorch.distributions.MultivariateNormal(mean, covar)\n",
    "    \n",
    "    def guide(self, x, y):\n",
    "        # Get q(f) - variational (guide) distribution of latent function\n",
    "        function_dist = self.pyro_guide(x)\n",
    "\n",
    "        # Use a plate here to mark conditional independencies\n",
    "        with pyro.plate(self.name_prefix + \".data_plate\", dim=-1):\n",
    "            # Sample from latent function distribution\n",
    "            pyro.sample(self.name_prefix + \".f(x)\", function_dist)\n",
    "    \n",
    "    def model(self, x, y):\n",
    "        pyro.module(self.name_prefix + \".gp\", self)\n",
    "        \n",
    "        # Get p(f) - prior distribution of latent function\n",
    "        function_dist = self.pyro_model(x)\n",
    "        \n",
    "        # Use a plate here to mark conditional independencies\n",
    "        with pyro.plate(self.name_prefix + \".data_plate\", dim=-1):\n",
    "            # Sample from latent function distribution\n",
    "            function_samples = pyro.sample(self.name_prefix + \".f(x)\", function_dist)\n",
    "            \n",
    "            # Use the link function to convert GP samples into scale samples\n",
    "            scale_samples = function_samples.exp()\n",
    "\n",
    "            # Sample from observed distribution\n",
    "            return pyro.sample(\n",
    "                self.name_prefix + \".y\",\n",
    "                pyro.distributions.Exponential(scale_samples.reciprocal()),  # rate = 1 / scale\n",
    "                obs=y\n",
    "            )"
   ]
  },
  {
   "cell_type": "code",
   "execution_count": 5,
   "metadata": {},
   "outputs": [],
   "source": [
    "model = PVGPRegressionModel()"
   ]
  },
  {
   "cell_type": "code",
   "execution_count": 6,
   "metadata": {},
   "outputs": [
    {
     "data": {
      "text/plain": [
       "PVGPRegressionModel(\n",
       "  (variational_strategy): VariationalStrategy(\n",
       "    (_variational_distribution): CholeskyVariationalDistribution()\n",
       "  )\n",
       "  (mean_module): ConstantMean()\n",
       "  (covar_module): ScaleKernel(\n",
       "    (base_kernel): RBFKernel(\n",
       "      (raw_lengthscale_constraint): Positive()\n",
       "    )\n",
       "    (raw_outputscale_constraint): Positive()\n",
       "  )\n",
       ")"
      ]
     },
     "execution_count": 6,
     "metadata": {},
     "output_type": "execute_result"
    }
   ],
   "source": [
    "model"
   ]
  },
  {
   "cell_type": "code",
   "execution_count": 7,
   "metadata": {},
   "outputs": [
    {
     "data": {
      "application/vnd.jupyter.widget-view+json": {
       "model_id": "afdc1d36e56e4ddeb8b1657ada895241",
       "version_major": 2,
       "version_minor": 0
      },
      "text/plain": [
       "HBox(children=(FloatProgress(value=0.0, max=200.0), HTML(value='')))"
      ]
     },
     "metadata": {},
     "output_type": "display_data"
    },
    {
     "name": "stdout",
     "output_type": "stream",
     "text": [
      "\n",
      "CPU times: user 10.6 s, sys: 1.47 s, total: 12.1 s\n",
      "Wall time: 12 s\n"
     ]
    }
   ],
   "source": [
    "num_iter =  200\n",
    "num_particles = 256\n",
    "\n",
    "\n",
    "def train():\n",
    "    optimizer = pyro.optim.Adam({\"lr\": 0.1})\n",
    "    elbo = pyro.infer.Trace_ELBO(num_particles=num_particles, vectorize_particles=True, retain_graph=True)\n",
    "    svi = pyro.infer.SVI(model.model, model.guide, optimizer, elbo)\n",
    "\n",
    "    model.train()\n",
    "    iterator = tqdm.notebook.tqdm(range(num_iter))\n",
    "    for i in iterator:\n",
    "        model.zero_grad()\n",
    "        loss = svi.step(train_x, train_y)\n",
    "        iterator.set_postfix(loss=loss, lengthscale=model.covar_module.base_kernel.lengthscale.item())\n",
    "        \n",
    "%time train()"
   ]
  },
  {
   "cell_type": "code",
   "execution_count": 8,
   "metadata": {},
   "outputs": [],
   "source": [
    "# Here's a quick helper function for getting smoothed percentile values from samples\n",
    "def percentiles_from_samples(samples, percentiles=[0.05, 0.5, 0.95]):\n",
    "    num_samples = samples.size(0)\n",
    "    samples = samples.sort(dim=0)[0]\n",
    "    \n",
    "    # Get samples corresponding to percentile\n",
    "    percentile_samples = [samples[int(num_samples * percentile)] for percentile in percentiles]\n",
    "    \n",
    "    # Smooth the samples\n",
    "    kernel = torch.full((1, 1, 5), fill_value=0.2)\n",
    "    percentiles_samples = [\n",
    "        torch.nn.functional.conv1d(percentile_sample.view(1, 1, -1), kernel, padding=2).view(-1)\n",
    "        for percentile_sample in percentile_samples\n",
    "    ]\n",
    "    \n",
    "    return percentile_samples"
   ]
  },
  {
   "cell_type": "code",
   "execution_count": 9,
   "metadata": {},
   "outputs": [],
   "source": [
    "# define test set (optionally on GPU)\n",
    "denser = 2 # make test set 2 times denser then the training set\n",
    "test_x = torch.linspace(0, 1, denser * NSamp).float()#.cuda()\n",
    "\n",
    "model.eval()\n",
    "with torch.no_grad():\n",
    "    output = model(test_x)\n",
    "\n",
    "# Get E[exp(f)] via f_i ~ GP, 1/n \\sum_{i=1}^{n} exp(f_i).\n",
    "# Similarly get the 5th and 95th percentiles\n",
    "samples = output(torch.Size([1000])).exp()\n",
    "lower, mean, upper = percentiles_from_samples(samples)\n",
    "\n",
    "# Draw some simulated y values\n",
    "scale_sim = model(train_x)().exp()\n",
    "y_sim = pyro.distributions.Exponential(scale_sim.reciprocal())()"
   ]
  },
  {
   "cell_type": "code",
   "execution_count": 10,
   "metadata": {},
   "outputs": [
    {
     "data": {
      "text/plain": [
       "<matplotlib.legend.Legend at 0x2b063d38d8d0>"
      ]
     },
     "execution_count": 10,
     "metadata": {},
     "output_type": "execute_result"
    },
    {
     "data": {
      "image/png": "[encoded data removed]",
      "text/plain": [
       "<Figure size 864x216 with 2 Axes>"
      ]
     },
     "metadata": {
      "needs_background": "light"
     },
     "output_type": "display_data"
    }
   ],
   "source": [
    "# visualize the result\n",
    "fig, (func, samp) = plt.subplots(1, 2, figsize=(12, 3))\n",
    "line, = func.plot(test_x, mean.detach().cpu().numpy(), label='GP prediction')\n",
    "func.fill_between(\n",
    "    test_x, lower.detach().cpu().numpy(),\n",
    "    upper.detach().cpu().numpy(), color=line.get_color(), alpha=0.5\n",
    ")\n",
    "\n",
    "func.plot(test_x, scale(test_x), label='True latent function')\n",
    "func.legend()\n",
    "\n",
    "# sample from p(y|D,x) = \\int p(y|f) p(f|D,x) df (doubly stochastic)\n",
    "samp.scatter(train_x, train_y, alpha = 0.5, label='True train data')\n",
    "samp.scatter(train_x, y_sim.cpu().detach().numpy(), alpha=0.5, label='Sample from the model')\n",
    "samp.legend()"
   ]
  },
  {
   "cell_type": "code",
   "execution_count": 14,
   "metadata": {},
   "outputs": [
    {
     "data": {
      "text/plain": [
       "tensor([[ 0.4005,  0.3461,  0.3333,  ..., -0.0073,  0.0088,  0.0495],\n",
       "        [ 0.2563,  0.2409,  0.2312,  ...,  0.7215,  0.7878,  0.8600],\n",
       "        [ 0.3617,  0.3283,  0.2943,  ...,  0.9873,  1.0110,  1.0703],\n",
       "        ...,\n",
       "        [ 0.3549,  0.3664,  0.3693,  ...,  0.6913,  0.7835,  0.8741],\n",
       "        [ 0.3247,  0.3727,  0.4386,  ...,  0.7192,  0.7715,  0.8349],\n",
       "        [-0.3389, -0.2877, -0.2504,  ...,  0.3790,  0.3862,  0.3588]])"
      ]
     },
     "execution_count": 14,
     "metadata": {},
     "output_type": "execute_result"
    }
   ],
   "source": [
    "output(torch.Size([1000]))"
   ]
  },
  {
   "cell_type": "code",
   "execution_count": null,
   "metadata": {},
   "outputs": [],
   "source": []
  },
  {
   "cell_type": "code",
   "execution_count": null,
   "metadata": {},
   "outputs": [],
   "source": []
  },
  {
   "cell_type": "code",
   "execution_count": null,
   "metadata": {},
   "outputs": [],
   "source": []
  },
  {
   "cell_type": "code",
   "execution_count": null,
   "metadata": {},
   "outputs": [],
   "source": []
  },
  {
   "cell_type": "code",
   "execution_count": null,
   "metadata": {},
   "outputs": [],
   "source": []
  },
  {
   "cell_type": "code",
   "execution_count": 8,
   "metadata": {},
   "outputs": [],
   "source": [
    "class PVGPRegressionModel(gpytorch.models.PyroGP): # extends ApproximateGP\n",
    "    def __init__(self, train_x, train_y, likelihood):\n",
    "        # Define all the variational stuff\n",
    "        variational_distribution = gpytorch.variational.CholeskyVariationalDistribution(\n",
    "            num_inducing_points=train_y.numel(),\n",
    "        )\n",
    "        variational_strategy = gpytorch.variational.VariationalStrategy(\n",
    "            self, train_x, variational_distribution\n",
    "        )\n",
    "        \n",
    "        # Standard initializtation\n",
    "        super(PVGPRegressionModel, self).__init__(\n",
    "            variational_strategy,\n",
    "            likelihood,\n",
    "            num_data=train_y.numel(),\n",
    "            name_prefix=\"simple_regression_model\"\n",
    "        )\n",
    "        self.likelihood = likelihood\n",
    "        \n",
    "        # Mean, covar\n",
    "        self.mean_module = gpytorch.means.ConstantMean()\n",
    "        self.covar_module = gpytorch.kernels.ScaleKernel(\n",
    "            gpytorch.kernels.MaternKernel(nu=1.5)\n",
    "        )\n",
    "\n",
    "    def forward(self, x):\n",
    "        mean = self.mean_module(x)  # Returns an n_data vec\n",
    "        covar = self.covar_module(x)\n",
    "        return gpytorch.distributions.MultivariateNormal(mean, covar)"
   ]
  },
  {
   "cell_type": "code",
   "execution_count": 9,
   "metadata": {},
   "outputs": [],
   "source": [
    "model = PVGPRegressionModel(train_x, train_y, gpytorch.likelihoods.GaussianLikelihood())"
   ]
  },
  {
   "cell_type": "code",
   "execution_count": 46,
   "metadata": {},
   "outputs": [
    {
     "name": "stdout",
     "output_type": "stream",
     "text": [
      "CPU times: user 4.18 s, sys: 50.1 ms, total: 4.23 s\n",
      "Wall time: 4.22 s\n"
     ]
    }
   ],
   "source": [
    "num_iter =  200\n",
    "num_particles = 256\n",
    "\n",
    "\n",
    "def train(lr=0.01):\n",
    "    optimizer = pyro.optim.Adam({\"lr\": 0.1})\n",
    "    elbo = pyro.infer.Trace_ELBO(num_particles=num_particles, vectorize_particles=True, retain_graph=True)\n",
    "    svi = pyro.infer.SVI(model.model, model.guide, optimizer, elbo)\n",
    "    model.train()\n",
    "\n",
    "    for i in range(num_iter):\n",
    "        model.zero_grad()\n",
    "        loss = svi.step(train_x, train_y)\n",
    "        \n",
    "%time train()"
   ]
  },
  {
   "cell_type": "code",
   "execution_count": 47,
   "metadata": {},
   "outputs": [
    {
     "data": {
      "text/plain": [
       "<matplotlib.legend.Legend at 0x2b06305d8f50>"
      ]
     },
     "execution_count": 47,
     "metadata": {},
     "output_type": "execute_result"
    },
    {
     "data": {
      "image/png": "[encoded data removed]",
      "text/plain": [
       "<Figure size 288x216 with 1 Axes>"
      ]
     },
     "metadata": {
      "needs_background": "light"
     },
     "output_type": "display_data"
    }
   ],
   "source": [
    "fig, ax = plt.subplots(1, 1, figsize=(4, 3))\n",
    "train_data, = ax.plot(train_x.cpu().numpy(), train_y.cpu().numpy(), 'bo')\n",
    "\n",
    "model.eval()\n",
    "with torch.no_grad():\n",
    "    output = model.likelihood(model(train_x))\n",
    "    \n",
    "mean = output.mean\n",
    "lower, upper = output.confidence_region()\n",
    "line, = ax.plot(train_x.cpu().numpy(), mean.detach().cpu().numpy())\n",
    "ax.fill_between(train_x.cpu().numpy(), lower.detach().cpu().numpy(),\n",
    "                upper.detach().cpu().numpy(), color=line.get_color(), alpha=0.5)\n",
    "ax.set_xlabel('x')\n",
    "ax.set_ylabel('y')\n",
    "ax.legend([train_data, line], ['Train data', 'Prediction'])"
   ]
  },
  {
   "cell_type": "code",
   "execution_count": null,
   "metadata": {},
   "outputs": [],
   "source": []
  },
  {
   "cell_type": "code",
   "execution_count": null,
   "metadata": {},
   "outputs": [],
   "source": []
  },
  {
   "cell_type": "code",
   "execution_count": null,
   "metadata": {},
   "outputs": [],
   "source": []
  },
  {
   "cell_type": "code",
   "execution_count": null,
   "metadata": {},
   "outputs": [],
   "source": []
  },
  {
   "cell_type": "code",
   "execution_count": null,
   "metadata": {},
   "outputs": [],
   "source": []
  },
  {
   "cell_type": "code",
   "execution_count": 4,
   "metadata": {},
   "outputs": [],
   "source": [
    "# Training data is 100 points in [0,1] inclusive regularly spaced\n",
    "train_x = torch.linspace(0, 1, 100)\n",
    "# True function is sin(2*pi*x) with Gaussian noise\n",
    "train_y = torch.sin(train_x * (2 * math.pi)) + torch.randn(train_x.size()) * math.sqrt(0.04)"
   ]
  },
  {
   "cell_type": "code",
   "execution_count": 6,
   "metadata": {},
   "outputs": [
    {
     "data": {
      "text/plain": [
       "tensor([-0.3888,  0.1062,  0.1720,  0.3088,  0.3153,  0.7004,  0.3169,  0.3134,\n",
       "         0.6458,  0.5865,  0.7845,  0.7180,  0.5347,  0.6678,  0.7350,  0.6745,\n",
       "         0.4440,  0.8236,  0.6777,  0.7538,  0.8588,  1.0900,  0.8827,  0.8525,\n",
       "         1.2782,  1.1655,  1.2833,  1.1497,  0.9375,  0.6757,  0.8094,  0.8677,\n",
       "         0.9165,  1.0770,  1.1480,  1.0601,  0.8876,  0.7361,  0.6804,  1.0950,\n",
       "         0.9156,  0.0230,  0.1343,  0.1686,  0.4540,  0.0921, -0.0786,  0.1359,\n",
       "         0.1732, -0.0294, -0.2454, -0.1663, -0.2316, -0.1959, -0.3841, -0.5511,\n",
       "        -0.7394, -0.6092, -0.5471, -0.3774, -0.7676, -0.8666, -0.5653, -0.7512,\n",
       "        -0.3482, -0.6306, -0.8168, -0.9884, -0.8337, -1.1502, -0.8521, -0.6202,\n",
       "        -1.2541, -0.8980, -1.0110, -1.0329, -1.0285, -1.0066, -1.0002, -1.2691,\n",
       "        -0.8186, -0.6450, -0.5300, -0.7876, -0.7283, -0.7045, -0.3712, -0.8557,\n",
       "        -0.4156, -0.6359, -0.4898, -0.7475, -0.2900, -0.2156, -0.3003,  0.0895,\n",
       "        -0.0522, -0.3796,  0.1091,  0.0304])"
      ]
     },
     "execution_count": 6,
     "metadata": {},
     "output_type": "execute_result"
    }
   ],
   "source": [
    "train_y"
   ]
  },
  {
   "cell_type": "code",
   "execution_count": 13,
   "metadata": {},
   "outputs": [],
   "source": [
    "# We will use the simplest form of GP model, exact inference\n",
    "class ExactGPModel(gpytorch.models.ExactGP): # heriditary from ExactGP class\n",
    "    def __init__(self, train_x, train_y, likelihood):\n",
    "        super(ExactGPModel, self).__init__(train_x, train_y, likelihood)\n",
    "        self.mean_module = gpytorch.means.ConstantMean()\n",
    "        self.covar_module = gpytorch.kernels.ScaleKernel(gpytorch.kernels.PeriodicKernel())\n",
    "    \n",
    "    def forward(self, x):\n",
    "        mean_x = self.mean_module(x)\n",
    "        covar_x = self.covar_module(x)\n",
    "        return gpytorch.distributions.MultivariateNormal(mean_x, covar_x)"
   ]
  },
  {
   "cell_type": "code",
   "execution_count": 14,
   "metadata": {},
   "outputs": [],
   "source": [
    "from gpytorch.priors import LogNormalPrior, NormalPrior, UniformPrior\n",
    "# Use a positive constraint instead of usual GreaterThan(1e-4) so that LogNormal has support over full range.\n",
    "likelihood = gpytorch.likelihoods.GaussianLikelihood(noise_constraint=gpytorch.constraints.Positive())\n",
    "model = ExactGPModel(train_x, train_y, likelihood)\n",
    "\n",
    "model.mean_module.register_prior(\"mean_prior\", UniformPrior(-1, 1), \"constant\")\n",
    "model.covar_module.base_kernel.register_prior(\"lengthscale_prior\", UniformPrior(0.01, 0.5), \"lengthscale\")\n",
    "model.covar_module.base_kernel.register_prior(\"period_length_prior\", UniformPrior(0.05, 2.5), \"period_length\")\n",
    "model.covar_module.register_prior(\"outputscale_prior\", UniformPrior(1, 2), \"outputscale\")\n",
    "likelihood.register_prior(\"noise_prior\", UniformPrior(0.05, 0.3), \"noise\")\n",
    "\n",
    "mll = gpytorch.mlls.ExactMarginalLogLikelihood(likelihood, model)"
   ]
  },
  {
   "cell_type": "code",
   "execution_count": 18,
   "metadata": {},
   "outputs": [],
   "source": [
    "def pyro_model(x, y):\n",
    "    model.pyro_sample_from_prior()\n",
    "    output = model(x)\n",
    "    loss = mll.pyro_factor(output, y)\n",
    "    return y"
   ]
  },
  {
   "cell_type": "code",
   "execution_count": 22,
   "metadata": {},
   "outputs": [],
   "source": [
    "nuts_kernel = NUTS(pyro_model, adapt_step_size=True)"
   ]
  },
  {
   "cell_type": "code",
   "execution_count": 25,
   "metadata": {},
   "outputs": [
    {
     "name": "stderr",
     "output_type": "stream",
     "text": [
      "Sample: 100%|██████████| 300/300 [11:05,  2.22s/it, step size=1.44e-02, acc. prob=0.816]\n"
     ]
    }
   ],
   "source": [
    "mcmc_run = MCMC(nuts_kernel, num_samples=100, warmup_steps=200, disable_progbar=False)\n",
    "mcmc_run.run(train_x, train_y)"
   ]
  },
  {
   "cell_type": "code",
   "execution_count": 26,
   "metadata": {},
   "outputs": [],
   "source": [
    "model.pyro_load_from_samples(mcmc_run.get_samples())"
   ]
  },
  {
   "cell_type": "code",
   "execution_count": 31,
   "metadata": {},
   "outputs": [],
   "source": [
    "model.eval()\n",
    "test_x = torch.linspace(0, 1, 101).unsqueeze(-1)\n",
    "test_y = torch.sin(test_x * (2 * math.pi))\n",
    "expanded_test_x = test_x.unsqueeze(0).repeat(100, 1, 1)\n",
    "output = model(expanded_test_x)"
   ]
  },
  {
   "cell_type": "code",
   "execution_count": 32,
   "metadata": {},
   "outputs": [
    {
     "data": {
      "image/png": "[encoded data removed]",
      "text/plain": [
       "<Figure size 288x216 with 1 Axes>"
      ]
     },
     "metadata": {
      "needs_background": "light"
     },
     "output_type": "display_data"
    }
   ],
   "source": [
    "with torch.no_grad():\n",
    "    # Initialize plot\n",
    "    f, ax = plt.subplots(1, 1, figsize=(4, 3))\n",
    "    \n",
    "    # Plot training data as black stars\n",
    "    ax.plot(train_x.numpy(), train_y.numpy(), 'k*', zorder=10)\n",
    "    \n",
    "    for i in range(min(100, 25)):\n",
    "        # Plot predictive means as blue line\n",
    "        ax.plot(test_x.numpy(), output.mean[i].detach().numpy(), 'b', linewidth=0.3)\n",
    "        \n",
    "    # Shade between the lower and upper confidence bounds\n",
    "    # ax.fill_between(test_x.numpy(), lower.numpy(), upper.numpy(), alpha=0.5)\n",
    "    ax.set_ylim([-3, 3])\n",
    "    ax.legend(['Observed Data', 'Sampled Means'])"
   ]
  },
  {
   "cell_type": "code",
   "execution_count": 13,
   "metadata": {},
   "outputs": [],
   "source": [
    "# Find optimal model hyperparameters\n",
    "model.train()\n",
    "likelihood.train()\n",
    "\n",
    "# Use the adam optimizer\n",
    "optimizer = torch.optim.Adam([\n",
    "    {'params': model.parameters()},  # Includes GaussianLikelihood parameters\n",
    "], lr=0.1)"
   ]
  },
  {
   "cell_type": "code",
   "execution_count": 14,
   "metadata": {},
   "outputs": [
    {
     "data": {
      "text/plain": [
       "Adam (\n",
       "Parameter Group 0\n",
       "    amsgrad: False\n",
       "    betas: (0.9, 0.999)\n",
       "    eps: 1e-08\n",
       "    lr: 0.1\n",
       "    weight_decay: 0\n",
       ")"
      ]
     },
     "execution_count": 14,
     "metadata": {},
     "output_type": "execute_result"
    }
   ],
   "source": [
    "optimizer"
   ]
  },
  {
   "cell_type": "code",
   "execution_count": 17,
   "metadata": {},
   "outputs": [],
   "source": [
    "# \"Loss\" for GPs - the marginal log likelihood\n",
    "mll = gpytorch.mlls.ExactMarginalLogLikelihood(likelihood, model)"
   ]
  },
  {
   "cell_type": "code",
   "execution_count": 18,
   "metadata": {},
   "outputs": [
    {
     "data": {
      "text/plain": [
       "ExactMarginalLogLikelihood(\n",
       "  (likelihood): GaussianLikelihood(\n",
       "    (noise_covar): HomoskedasticNoise(\n",
       "      (raw_noise_constraint): GreaterThan(1.000E-04)\n",
       "    )\n",
       "  )\n",
       "  (model): ExactGPModel(\n",
       "    (likelihood): GaussianLikelihood(\n",
       "      (noise_covar): HomoskedasticNoise(\n",
       "        (raw_noise_constraint): GreaterThan(1.000E-04)\n",
       "      )\n",
       "    )\n",
       "    (mean_module): ConstantMean()\n",
       "    (covar_module): ScaleKernel(\n",
       "      (base_kernel): RBFKernel(\n",
       "        (raw_lengthscale_constraint): Positive()\n",
       "      )\n",
       "      (raw_outputscale_constraint): Positive()\n",
       "    )\n",
       "  )\n",
       ")"
      ]
     },
     "execution_count": 18,
     "metadata": {},
     "output_type": "execute_result"
    }
   ],
   "source": [
    "mll"
   ]
  },
  {
   "cell_type": "code",
   "execution_count": 20,
   "metadata": {},
   "outputs": [
    {
     "name": "stdout",
     "output_type": "stream",
     "text": [
      "Iter 1/50 - Loss: 0.959   lengthscale: 0.693   noise: 0.693\n",
      "Iter 2/50 - Loss: 0.928   lengthscale: 0.644   noise: 0.644\n",
      "Iter 3/50 - Loss: 0.894   lengthscale: 0.598   noise: 0.598\n",
      "Iter 4/50 - Loss: 0.856   lengthscale: 0.555   noise: 0.554\n",
      "Iter 5/50 - Loss: 0.812   lengthscale: 0.514   noise: 0.513\n",
      "Iter 6/50 - Loss: 0.762   lengthscale: 0.476   noise: 0.474\n",
      "Iter 7/50 - Loss: 0.707   lengthscale: 0.440   noise: 0.437\n",
      "Iter 8/50 - Loss: 0.650   lengthscale: 0.405   noise: 0.402\n",
      "Iter 9/50 - Loss: 0.596   lengthscale: 0.373   noise: 0.369\n",
      "Iter 10/50 - Loss: 0.546   lengthscale: 0.343   noise: 0.339\n",
      "Iter 11/50 - Loss: 0.501   lengthscale: 0.315   noise: 0.310\n",
      "Iter 12/50 - Loss: 0.461   lengthscale: 0.292   noise: 0.283\n",
      "Iter 13/50 - Loss: 0.424   lengthscale: 0.271   noise: 0.259\n",
      "Iter 14/50 - Loss: 0.388   lengthscale: 0.254   noise: 0.236\n",
      "Iter 15/50 - Loss: 0.353   lengthscale: 0.240   noise: 0.215\n",
      "Iter 16/50 - Loss: 0.319   lengthscale: 0.229   noise: 0.195\n",
      "Iter 17/50 - Loss: 0.285   lengthscale: 0.220   noise: 0.178\n",
      "Iter 18/50 - Loss: 0.251   lengthscale: 0.213   noise: 0.161\n",
      "Iter 19/50 - Loss: 0.218   lengthscale: 0.208   noise: 0.147\n",
      "Iter 20/50 - Loss: 0.185   lengthscale: 0.205   noise: 0.133\n",
      "Iter 21/50 - Loss: 0.152   lengthscale: 0.204   noise: 0.121\n",
      "Iter 22/50 - Loss: 0.120   lengthscale: 0.204   noise: 0.110\n",
      "Iter 23/50 - Loss: 0.089   lengthscale: 0.205   noise: 0.099\n",
      "Iter 24/50 - Loss: 0.059   lengthscale: 0.207   noise: 0.090\n",
      "Iter 25/50 - Loss: 0.031   lengthscale: 0.211   noise: 0.082\n",
      "Iter 26/50 - Loss: 0.004   lengthscale: 0.216   noise: 0.075\n",
      "Iter 27/50 - Loss: -0.021   lengthscale: 0.221   noise: 0.068\n",
      "Iter 28/50 - Loss: -0.043   lengthscale: 0.228   noise: 0.062\n",
      "Iter 29/50 - Loss: -0.063   lengthscale: 0.235   noise: 0.057\n",
      "Iter 30/50 - Loss: -0.081   lengthscale: 0.243   noise: 0.052\n",
      "Iter 31/50 - Loss: -0.095   lengthscale: 0.251   noise: 0.048\n",
      "Iter 32/50 - Loss: -0.106   lengthscale: 0.260   noise: 0.044\n",
      "Iter 33/50 - Loss: -0.113   lengthscale: 0.269   noise: 0.041\n",
      "Iter 34/50 - Loss: -0.118   lengthscale: 0.277   noise: 0.038\n",
      "Iter 35/50 - Loss: -0.120   lengthscale: 0.285   noise: 0.035\n",
      "Iter 36/50 - Loss: -0.119   lengthscale: 0.293   noise: 0.033\n",
      "Iter 37/50 - Loss: -0.116   lengthscale: 0.299   noise: 0.031\n",
      "Iter 38/50 - Loss: -0.112   lengthscale: 0.303   noise: 0.030\n",
      "Iter 39/50 - Loss: -0.108   lengthscale: 0.306   noise: 0.029\n",
      "Iter 40/50 - Loss: -0.104   lengthscale: 0.308   noise: 0.028\n",
      "Iter 41/50 - Loss: -0.101   lengthscale: 0.307   noise: 0.027\n",
      "Iter 42/50 - Loss: -0.098   lengthscale: 0.305   noise: 0.026\n",
      "Iter 43/50 - Loss: -0.097   lengthscale: 0.301   noise: 0.026\n",
      "Iter 44/50 - Loss: -0.097   lengthscale: 0.297   noise: 0.026\n",
      "Iter 45/50 - Loss: -0.098   lengthscale: 0.292   noise: 0.026\n",
      "Iter 46/50 - Loss: -0.099   lengthscale: 0.287   noise: 0.026\n",
      "Iter 47/50 - Loss: -0.101   lengthscale: 0.282   noise: 0.026\n",
      "Iter 48/50 - Loss: -0.104   lengthscale: 0.277   noise: 0.027\n",
      "Iter 49/50 - Loss: -0.106   lengthscale: 0.273   noise: 0.027\n",
      "Iter 50/50 - Loss: -0.109   lengthscale: 0.270   noise: 0.028\n"
     ]
    }
   ],
   "source": [
    "training_iter = 50\n",
    "for i in range(training_iter):\n",
    "    # Zero gradients from previous iteration\n",
    "    optimizer.zero_grad()\n",
    "    # Output from model\n",
    "    output = model(train_x)\n",
    "    # Calc loss and backprop gradients\n",
    "    loss = -mll(output, train_y)\n",
    "    loss.backward()\n",
    "    print('Iter %d/%d - Loss: %.3f   lengthscale: %.3f   noise: %.3f' % (\n",
    "        i + 1, training_iter, loss.item(),\n",
    "        model.covar_module.base_kernel.lengthscale.item(),\n",
    "        model.likelihood.noise.item()\n",
    "    ))\n",
    "    optimizer.step()"
   ]
  },
  {
   "cell_type": "code",
   "execution_count": 21,
   "metadata": {},
   "outputs": [],
   "source": [
    "# Get into evaluation (predictive posterior) mode\n",
    "model.eval()\n",
    "likelihood.eval()\n",
    "\n",
    "# Test points are regularly spaced along [0,1]\n",
    "# Make predictions by feeding model through likelihood\n",
    "with torch.no_grad(), gpytorch.settings.fast_pred_var():\n",
    "    test_x = torch.linspace(0, 1, 51)\n",
    "    # model(test_x)\n",
    "    observed_pred = likelihood(model(test_x))"
   ]
  },
  {
   "cell_type": "code",
   "execution_count": 29,
   "metadata": {},
   "outputs": [
    {
     "data": {
      "text/plain": [
       "tensor([[ 3.5149e-02,  4.8796e-03,  3.5326e-03,  ..., -4.3650e-05,\n",
       "         -4.1567e-05, -2.8005e-05],\n",
       "        [ 4.8796e-03,  3.2702e-02,  3.0792e-03,  ..., -2.3637e-05,\n",
       "         -3.4804e-05, -4.1542e-05],\n",
       "        [ 3.5326e-03,  3.0792e-03,  3.1377e-02,  ..., -5.0873e-06,\n",
       "         -2.3654e-05, -4.3625e-05],\n",
       "        ...,\n",
       "        [-4.3649e-05, -2.3638e-05, -5.0883e-06,  ...,  3.1378e-02,\n",
       "          3.0797e-03,  3.5332e-03],\n",
       "        [-4.1567e-05, -3.4804e-05, -2.3655e-05,  ...,  3.0797e-03,\n",
       "          3.2702e-02,  4.8800e-03],\n",
       "        [-2.8005e-05, -4.1541e-05, -4.3625e-05,  ...,  3.5332e-03,\n",
       "          4.8800e-03,  3.5149e-02]])"
      ]
     },
     "execution_count": 29,
     "metadata": {},
     "output_type": "execute_result"
    }
   ],
   "source": [
    "observed_pred.mean\n",
    "observed_pred.variance\n",
    "observed_pred.covariance_matrix"
   ]
  },
  {
   "cell_type": "code",
   "execution_count": 36,
   "metadata": {},
   "outputs": [
    {
     "data": {
      "image/png": "[encoded data removed]",
      "text/plain": [
       "<Figure size 288x216 with 1 Axes>"
      ]
     },
     "metadata": {
      "needs_background": "light"
     },
     "output_type": "display_data"
    }
   ],
   "source": [
    "with torch.no_grad():\n",
    "    # Initialize plot\n",
    "    f, ax = plt.subplots(1, 1, figsize=(4, 3))\n",
    "\n",
    "    # Get upper and lower confidence bounds\n",
    "    lower, upper = observed_pred.confidence_region()\n",
    "    # Plot training data as black stars\n",
    "    ax.plot(train_x.numpy(), train_y.numpy(), '.')\n",
    "    # Plot predictive means as blue line\n",
    "    ax.plot(test_x.numpy(), observed_pred.mean.numpy(), 'b')\n",
    "    # Shade between the lower and upper confidence bounds\n",
    "    ax.fill_between(test_x.numpy(), lower.numpy(), upper.numpy(), alpha=0.3)\n",
    "    ax.set_ylim([-3, 3])\n",
    "    ax.legend(['Observed Data', 'Mean', 'Confidence'])"
   ]
  },
  {
   "cell_type": "code",
   "execution_count": 34,
   "metadata": {},
   "outputs": [
    {
     "data": {
      "text/plain": [
       "(tensor([-0.3499, -0.2240, -0.1021,  0.0156,  0.1287,  0.2360,  0.3361,  0.4272,\n",
       "          0.5075,  0.5752,  0.6288,  0.6670,  0.6888,  0.6938,  0.6817,  0.6526,\n",
       "          0.6070,  0.5455,  0.4692,  0.3792,  0.2771,  0.1645,  0.0432, -0.0848,\n",
       "         -0.2173, -0.3523, -0.4874, -0.6203, -0.7487, -0.8704, -0.9832, -1.0850,\n",
       "         -1.1738, -1.2480, -1.3060, -1.3469, -1.3697, -1.3740, -1.3599, -1.3277,\n",
       "         -1.2782, -1.2125, -1.1321, -1.0388, -0.9347, -0.8224, -0.7046, -0.5847,\n",
       "         -0.4665, -0.3542, -0.2521]),\n",
       " tensor([ 0.4001,  0.4993,  0.6064,  0.7170,  0.8274,  0.9341,  1.0341,  1.1251,\n",
       "          1.2050,  1.2721,  1.3251,  1.3627,  1.3842,  1.3889,  1.3767,  1.3476,\n",
       "          1.3019,  1.2405,  1.1641,  1.0740,  0.9719,  0.8592,  0.7378,  0.6098,\n",
       "          0.4772,  0.3422,  0.2071,  0.0743, -0.0541, -0.1758, -0.2885, -0.3901,\n",
       "         -0.4789, -0.5530, -0.6111, -0.6519, -0.6747, -0.6789, -0.6646, -0.6320,\n",
       "         -0.5819, -0.5156, -0.4346, -0.3409, -0.2367, -0.1243, -0.0059,  0.1167,\n",
       "          0.2420,  0.3692,  0.4979]))"
      ]
     },
     "execution_count": 34,
     "metadata": {},
     "output_type": "execute_result"
    }
   ],
   "source": [
    "observed_pred.confidence_region()"
   ]
  },
  {
   "cell_type": "code",
   "execution_count": 34,
   "metadata": {},
   "outputs": [
    {
     "data": {
      "text/plain": [
       "False"
      ]
     },
     "execution_count": 34,
     "metadata": {},
     "output_type": "execute_result"
    }
   ],
   "source": [
    "torch.cuda.is_available()"
   ]
  },
  {
   "cell_type": "code",
   "execution_count": null,
   "metadata": {},
   "outputs": [],
   "source": [
    "if torch.cuda.is_available():\n",
    "    model = model.cuda()\n",
    "    likelihood = likelihood.cuda()"
   ]
  }
 ],
 "metadata": {
  "kernelspec": {
   "display_name": "Python3.7.7 (mortGP)",
   "language": "python",
   "name": "mortgp"
  },
  "language_info": {
   "codemirror_mode": {
    "name": "ipython",
    "version": 3
   },
   "file_extension": ".py",
   "mimetype": "text/x-python",
   "name": "python",
   "nbconvert_exporter": "python",
   "pygments_lexer": "ipython3",
   "version": "3.7.7"
  }
 },
 "nbformat": 4,
 "nbformat_minor": 2
}
